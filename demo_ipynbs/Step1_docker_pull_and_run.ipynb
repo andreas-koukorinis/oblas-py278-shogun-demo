{
 "metadata": {
  "name": "",
  "signature": "sha256:93bada01dbe94e17f358a9fe56f3bc694321936cdc92c6ec801c712b5dc17c1e"
 },
 "nbformat": 3,
 "nbformat_minor": 0,
 "worksheets": [
  {
   "cells": [
    {
     "cell_type": "markdown",
     "metadata": {},
     "source": [
      "# Docker pull images"
     ]
    },
    {
     "cell_type": "markdown",
     "metadata": {},
     "source": [
      "Use the following command:\n",
      "\n",
      "```\n",
      "docker pull c3h3/oblas-py278-shogun-ipynb\n",
      "```\n",
      "\n",
      "to pull the docker images with python2.7.8 + Openblas + numpy1.8.2 + scipy0.14.0 + pandas + ipython + ... + shogun\n",
      "\n",
      "This image is on the docker hub: https://registry.hub.docker.com/u/c3h3/oblas-py278-shogun-ipynb/\n",
      "\n",
      "(if you want to add more packages, you can also download the Dockerfile from its github repo: https://github.com/c3h3/docker-oblas-py278-data/tree/shogun-ipynb)\n"
     ]
    },
    {
     "cell_type": "markdown",
     "metadata": {},
     "source": [
      "# After 'docker pull' ... "
     ]
    },
    {
     "cell_type": "markdown",
     "metadata": {},
     "source": [
      "with command:\n",
      "\n",
      "```\n",
      "docker images\n",
      "```\n",
      "\n",
      "you can see the images in the list ... "
     ]
    },
    {
     "cell_type": "code",
     "collapsed": false,
     "input": [
      "!docker images "
     ],
     "language": "python",
     "metadata": {},
     "outputs": [
      {
       "output_type": "stream",
       "stream": "stdout",
       "text": [
        "REPOSITORY                      TAG                 IMAGE ID            CREATED             VIRTUAL SIZE\r\n",
        "c3h3/oblas-py278-shogun-ipynb   latest              408c81556ef6        8 hours ago         3.065 GB\r\n",
        "c3h3/oblas-py278-shogun         latest              69d038c4edb3        19 hours ago        3.059 GB\r\n",
        "c3h3/oblas-py278-data           latest              85b19ee1461b        26 hours ago        2.515 GB\r\n",
        "debian                          jessie              71d9d77ae89e        3 days ago          121.9 MB\r\n",
        "c3h3/oblas-py278-scipy-base     latest              b5f49d1d0a55        5 days ago          2.097 GB\r\n"
       ]
      }
     ],
     "prompt_number": 1
    },
    {
     "cell_type": "markdown",
     "metadata": {},
     "source": [
      "# Then 'docker run' directly ... "
     ]
    },
    {
     "cell_type": "markdown",
     "metadata": {},
     "source": [
      "with the command on the website https://registry.hub.docker.com/u/c3h3/oblas-py278-shogun-ipynb/\n",
      "\n",
      "```\n",
      "docker run -p forward_port:8888 -v outside_ipynbs:/ipynbs -d c3h3/oblas-py278-shogun-ipynb\n",
      "```\n",
      "\n",
      "we can easily setting the parameters: forward_port and outside_ipynbs \n",
      "\n",
      "(with forward_port=8080 and outside_ipynbs=/home/c3h3/demo_ipynbs)\n",
      "\n",
      "to run the docker images directly ..."
     ]
    },
    {
     "cell_type": "code",
     "collapsed": false,
     "input": [
      "!docker run -p 8080:8888 -v /home/c3h3/demo_ipynbs:/ipynbs -d c3h3/oblas-py278-shogun-ipynb"
     ],
     "language": "python",
     "metadata": {},
     "outputs": [
      {
       "output_type": "stream",
       "stream": "stdout",
       "text": [
        "75ffa514c6284e4051ae6eded0954a2442b3077a057e7f495f86159a6314734c\r\n"
       ]
      }
     ],
     "prompt_number": 3
    },
    {
     "cell_type": "markdown",
     "metadata": {},
     "source": [
      "# After 'docker run' ... "
     ]
    },
    {
     "cell_type": "markdown",
     "metadata": {},
     "source": [
      "with command \n",
      "\n",
      "```\n",
      "docker ps \n",
      "```\n",
      "\n",
      "or\n",
      "\n",
      "```\n",
      "docker ps -a\n",
      "```\n",
      "\n",
      "you could checkout the all running images, just like the bash command \n",
      "\n",
      "```\n",
      "ps -aux\n",
      "```\n"
     ]
    },
    {
     "cell_type": "code",
     "collapsed": false,
     "input": [
      "!docker ps"
     ],
     "language": "python",
     "metadata": {},
     "outputs": [
      {
       "output_type": "stream",
       "stream": "stdout",
       "text": [
        "CONTAINER ID        IMAGE                                  COMMAND                CREATED             STATUS              PORTS                    NAMES\r\n",
        "75ffa514c628        c3h3/oblas-py278-shogun-ipynb:latest   \"/bin/sh -c 'ipython   35 seconds ago      Up 34 seconds       0.0.0.0:8080->8888/tcp   goofy_hopper        \r\n"
       ]
      }
     ],
     "prompt_number": 4
    },
    {
     "cell_type": "code",
     "collapsed": false,
     "input": [
      "!docker ps -a"
     ],
     "language": "python",
     "metadata": {},
     "outputs": [
      {
       "output_type": "stream",
       "stream": "stdout",
       "text": [
        "CONTAINER ID        IMAGE                                  COMMAND                CREATED             STATUS                       PORTS                    NAMES\r\n",
        "75ffa514c628        c3h3/oblas-py278-shogun-ipynb:latest   \"/bin/sh -c 'ipython   2 minutes ago       Up 2 minutes                 0.0.0.0:8080->8888/tcp   goofy_hopper        \r\n",
        "8d89aee756a8        c3h3/oblas-py278-shogun-ipynb:latest   \"/bin/sh -c 'ipython   2 hours ago         Exited (-1) 47 minutes ago                            loving_newton       \r\n",
        "4bdeaf7e0350        c3h3/oblas-py278-shogun:latest         \"/bin/bash\"            18 hours ago        Exited (0) 18 hours ago                               thirsty_bardeen     \r\n"
       ]
      }
     ],
     "prompt_number": 5
    },
    {
     "cell_type": "code",
     "collapsed": false,
     "input": [
      "!ps -a"
     ],
     "language": "python",
     "metadata": {},
     "outputs": [
      {
       "output_type": "stream",
       "stream": "stdout",
       "text": [
        "  PID TTY          TIME CMD\r\n",
        " 4234 pts/12   00:00:11 subl2\r\n",
        " 4720 pts/15   00:00:51 mongod\r\n",
        "15507 pts/26   00:00:00 ipython\r\n",
        "15589 pts/26   00:00:00 python2.7\r\n",
        "15606 pts/28   00:00:00 ps\r\n"
       ]
      }
     ],
     "prompt_number": 2
    },
    {
     "cell_type": "markdown",
     "metadata": {},
     "source": [
      "# Close docker image ... "
     ]
    },
    {
     "cell_type": "markdown",
     "metadata": {},
     "source": [
      "After working with ipython notebook and shogun, you could use the command:\n",
      "\n",
      "```\n",
      "docker stop name_or_hashkey && docker rm name_or_hashkey\n",
      "```\n",
      "\n",
      "where name_or_hashkey is your running instance's name or hashkey (here is hashkey 75ffa514c628)"
     ]
    },
    {
     "cell_type": "code",
     "collapsed": false,
     "input": [
      "!docker stop 75ffa514c628 && docker rm 75ffa514c628"
     ],
     "language": "python",
     "metadata": {},
     "outputs": [
      {
       "output_type": "stream",
       "stream": "stdout",
       "text": [
        "75ffa514c628\r\n"
       ]
      },
      {
       "output_type": "stream",
       "stream": "stdout",
       "text": [
        "75ffa514c628\r\n"
       ]
      }
     ],
     "prompt_number": 7
    },
    {
     "cell_type": "markdown",
     "metadata": {},
     "source": [
      "After Stoping instance, use \n",
      "\n",
      "```\n",
      "docker ps \n",
      "```\n",
      "\n",
      "check again ... "
     ]
    },
    {
     "cell_type": "code",
     "collapsed": false,
     "input": [
      "!docker ps"
     ],
     "language": "python",
     "metadata": {},
     "outputs": [
      {
       "output_type": "stream",
       "stream": "stdout",
       "text": [
        "CONTAINER ID        IMAGE               COMMAND             CREATED             STATUS              PORTS               NAMES\r\n"
       ]
      }
     ],
     "prompt_number": 8
    },
    {
     "cell_type": "code",
     "collapsed": false,
     "input": [],
     "language": "python",
     "metadata": {},
     "outputs": []
    }
   ],
   "metadata": {}
  }
 ]
}