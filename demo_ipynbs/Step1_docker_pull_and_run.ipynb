{
 "metadata": {
  "name": "",
  "signature": "sha256:ff3392a6a494ffde9cf27b5a265f419116ace3a65fb1b78f6ff21cbf96c06479"
 },
 "nbformat": 3,
 "nbformat_minor": 0,
 "worksheets": [
  {
   "cells": [
    {
     "cell_type": "markdown",
     "metadata": {},
     "source": [
      "# Docker pull images"
     ]
    },
    {
     "cell_type": "markdown",
     "metadata": {},
     "source": [
      "Use the following command:\n",
      "\n",
      "```\n",
      "docker pull c3h3/oblas-py278-shogun-ipynb\n",
      "```\n",
      "\n",
      "to pull the docker images with python2.7.8 + Openblas + numpy1.8.2 + scipy0.14.0 + pandas + ipython + ... + shogun\n",
      "\n",
      "This image is on the docker hub: https://registry.hub.docker.com/u/c3h3/oblas-py278-shogun-ipynb/\n",
      "\n",
      "(if you want to add more packages, you can also download the Dockerfile from its github repo: https://github.com/c3h3/docker-oblas-py278-data/tree/shogun-ipynb)\n"
     ]
    },
    {
     "cell_type": "markdown",
     "metadata": {},
     "source": [
      "# After 'docker pull' ... "
     ]
    },
    {
     "cell_type": "markdown",
     "metadata": {},
     "source": [
      "with command:\n",
      "\n",
      "```\n",
      "docker images\n",
      "```\n",
      "\n",
      "you can see the images in the list ... "
     ]
    },
    {
     "cell_type": "code",
     "collapsed": false,
     "input": [
      "!docker images "
     ],
     "language": "python",
     "metadata": {},
     "outputs": [
      {
       "output_type": "stream",
       "stream": "stdout",
       "text": [
        "REPOSITORY                      TAG                 IMAGE ID            CREATED             VIRTUAL SIZE\r\n",
        "c3h3/oblas-py278-shogun-ipynb   latest              408c81556ef6        13 hours ago        3.065 GB\r\n",
        "c3h3/oblas-py278-shogun         latest              69d038c4edb3        23 hours ago        3.059 GB\r\n",
        "c3h3/oblas-py278-data           latest              85b19ee1461b        30 hours ago        2.515 GB\r\n",
        "debian                          jessie              71d9d77ae89e        3 days ago          121.9 MB\r\n",
        "c3h3/oblas-py278-scipy-base     latest              b5f49d1d0a55        5 days ago          2.097 GB\r\n"
       ]
      }
     ],
     "prompt_number": 1
    },
    {
     "cell_type": "markdown",
     "metadata": {},
     "source": [
      "# Then 'docker run' directly ... "
     ]
    },
    {
     "cell_type": "markdown",
     "metadata": {},
     "source": [
      "## Setup workdir ..."
     ]
    },
    {
     "cell_type": "markdown",
     "metadata": {},
     "source": [
      "Before runing docker instance, we must have a outside volume which contains our codes, data, or ipython notebooks ...\n",
      " \n",
      "We want to mount this workdir as the /ipynbs dir inside docker instance. \n",
      "\n",
      "Here we use the Github Repository: https://github.com/c3h3/oblas-py278-shogun-demo\n",
      "\n",
      "as our workdir ... "
     ]
    },
    {
     "cell_type": "markdown",
     "metadata": {},
     "source": [
      "### So the first step ... we need to clone it from Github ... (as /home/c3h3/demo_ipynb)"
     ]
    },
    {
     "cell_type": "code",
     "collapsed": false,
     "input": [
      "! git clone https://github.com/c3h3/oblas-py278-shogun-demo /home/c3h3/demo_ipynbs"
     ],
     "language": "python",
     "metadata": {},
     "outputs": [
      {
       "output_type": "stream",
       "stream": "stdout",
       "text": [
        "Cloning into '/home/c3h3/demo_ipynbs'...\r\n"
       ]
      },
      {
       "output_type": "stream",
       "stream": "stdout",
       "text": [
        "remote: Counting objects: 89, done.\u001b[K\r\n",
        "remote: Compressing objects:   1% (1/77)   \u001b[K\r",
        "remote: Compressing objects:   2% (2/77)   \u001b[K\r",
        "remote: Compressing objects:   3% (3/77)   \u001b[K\r",
        "remote: Compressing objects:   5% (4/77)   \u001b[K\r",
        "remote: Compressing objects:   6% (5/77)   \u001b[K\r",
        "remote: Compressing objects:   7% (6/77)   \u001b[K\r",
        "remote: Compressing objects:   9% (7/77)   \u001b[K\r",
        "remote: Compressing objects:  10% (8/77)   \u001b[K\r",
        "remote: Compressing objects:  11% (9/77)   \u001b[K\r",
        "remote: Compressing objects:  12% (10/77)   \u001b[K\r",
        "remote: Compressing objects:  14% (11/77)   \u001b[K\r",
        "remote: Compressing objects:  15% (12/77)   \u001b[K\r",
        "remote: Compressing objects:  16% (13/77)   \u001b[K\r",
        "remote: Compressing objects:  18% (14/77)   \u001b[K\r",
        "remote: Compressing objects:  19% (15/77)   \u001b[K\r",
        "remote: Compressing objects:  20% (16/77)   \u001b[K\r",
        "remote: Compressing objects:  22% (17/77)   \u001b[K\r",
        "remote: Compressing objects:  23% (18/77)   \u001b[K\r",
        "remote: Compressing objects:  24% (19/77)   \u001b[K\r",
        "remote: Compressing objects:  25% (20/77)   \u001b[K\r",
        "remote: Compressing objects:  27% (21/77)   \u001b[K\r"
       ]
      },
      {
       "output_type": "stream",
       "stream": "stdout",
       "text": [
        "remote: Compressing objects:  28% (22/77)   \u001b[K\r",
        "remote: Compressing objects:  29% (23/77)   \u001b[K\r",
        "remote: Compressing objects:  31% (24/77)   \u001b[K\r",
        "remote: Compressing objects:  32% (25/77)   \u001b[K\r",
        "remote: Compressing objects:  33% (26/77)   \u001b[K\r",
        "remote: Compressing objects:  35% (27/77)   \u001b[K\r",
        "remote: Compressing objects:  36% (28/77)   \u001b[K\r",
        "remote: Compressing objects:  37% (29/77)   \u001b[K\r",
        "remote: Compressing objects:  38% (30/77)   \u001b[K\r",
        "remote: Compressing objects:  40% (31/77)   \u001b[K\r",
        "remote: Compressing objects:  41% (32/77)   \u001b[K\r",
        "remote: Compressing objects:  42% (33/77)   \u001b[K\r",
        "remote: Compressing objects:  44% (34/77)   \u001b[K\r",
        "remote: Compressing objects:  45% (35/77)   \u001b[K\r",
        "remote: Compressing objects:  46% (36/77)   \u001b[K\r",
        "remote: Compressing objects:  48% (37/77)   \u001b[K\r",
        "remote: Compressing objects:  49% (38/77)   \u001b[K\r",
        "remote: Compressing objects:  50% (39/77)   \u001b[K\r",
        "remote: Compressing objects:  51% (40/77)   \u001b[K\r",
        "remote: Compressing objects:  53% (41/77)   \u001b[K\r",
        "remote: Compressing objects:  54% (42/77)   \u001b[K\r",
        "remote: Compressing objects:  55% (43/77)   \u001b[K\r",
        "remote: Compressing objects:  57% (44/77)   \u001b[K\r",
        "remote: Compressing objects:  58% (45/77)   \u001b[K\r",
        "remote: Compressing objects:  59% (46/77)   \u001b[K\r",
        "remote: Compressing objects:  61% (47/77)   \u001b[K\r",
        "remote: Compressing objects:  62% (48/77)   \u001b[K\r",
        "remote: Compressing objects:  63% (49/77)   \u001b[K\r",
        "remote: Compressing objects:  64% (50/77)   \u001b[K\r",
        "remote: Compressing objects:  66% (51/77)   \u001b[K\r",
        "remote: Compressing objects:  67% (52/77)   \u001b[K\r",
        "remote: Compressing objects:  68% (53/77)   \u001b[K\r",
        "remote: Compressing objects:  70% (54/77)   \u001b[K\r",
        "remote: Compressing objects:  71% (55/77)   \u001b[K\r",
        "remote: Compressing objects:  72% (56/77)   \u001b[K\r",
        "remote: Compressing objects:  74% (57/77)   \u001b[K\r",
        "remote: Compressing objects:  75% (58/77)   \u001b[K\r",
        "remote: Compressing objects:  76% (59/77)   \u001b[K\r",
        "remote: Compressing objects:  77% (60/77)   \u001b[K\r",
        "remote: Compressing objects:  79% (61/77)   \u001b[K\r",
        "remote: Compressing objects:  80% (62/77)   \u001b[K\r",
        "remote: Compressing objects:  81% (63/77)   \u001b[K\r",
        "remote: Compressing objects:  83% (64/77)   \u001b[K\r",
        "remote: Compressing objects:  84% (65/77)   \u001b[K\r",
        "remote: Compressing objects:  85% (66/77)   \u001b[K\r",
        "remote: Compressing objects:  87% (67/77)   \u001b[K\r",
        "remote: Compressing objects:  88% (68/77)   \u001b[K\r",
        "remote: Compressing objects:  89% (69/77)   \u001b[K\r",
        "remote: Compressing objects:  90% (70/77)   \u001b[K\r",
        "remote: Compressing objects:  92% (71/77)   \u001b[K\r",
        "remote: Compressing objects:  93% (72/77)   \u001b[K\r",
        "remote: Compressing objects:  94% (73/77)   \u001b[K\r",
        "remote: Compressing objects:  96% (74/77)   \u001b[K\r",
        "remote: Compressing objects:  97% (75/77)   \u001b[K\r",
        "remote: Compressing objects:  98% (76/77)   \u001b[K\r",
        "remote: Compressing objects: 100% (77/77)   \u001b[K\r",
        "remote: Compressing objects: 100% (77/77), done.\u001b[K\r\n",
        "Unpacking objects:   1% (1/89)   \r",
        "Unpacking objects:   2% (2/89)   \r",
        "Unpacking objects:   3% (3/89)   \r",
        "Unpacking objects:   4% (4/89)   \r",
        "Unpacking objects:   5% (5/89)   \r",
        "Unpacking objects:   6% (6/89)   \r",
        "Unpacking objects:   7% (7/89)   \r",
        "Unpacking objects:   8% (8/89)   \r",
        "Unpacking objects:  10% (9/89)   \r",
        "Unpacking objects:  11% (10/89)   \r",
        "Unpacking objects:  12% (11/89)   \r",
        "Unpacking objects:  13% (12/89)   \r",
        "Unpacking objects:  14% (13/89)   \r",
        "Unpacking objects:  15% (14/89)   \r",
        "Unpacking objects:  16% (15/89)   \r",
        "Unpacking objects:  17% (16/89)   \r",
        "Unpacking objects:  19% (17/89)   \r",
        "Unpacking objects:  20% (18/89)   \r",
        "Unpacking objects:  21% (19/89)   \r",
        "Unpacking objects:  22% (20/89)   \r",
        "Unpacking objects:  23% (21/89)   \r",
        "Unpacking objects:  24% (22/89)   \r",
        "Unpacking objects:  25% (23/89)   \r"
       ]
      },
      {
       "output_type": "stream",
       "stream": "stdout",
       "text": [
        "Unpacking objects:  26% (24/89)   \r"
       ]
      },
      {
       "output_type": "stream",
       "stream": "stdout",
       "text": [
        "Unpacking objects:  28% (25/89)   \r"
       ]
      },
      {
       "output_type": "stream",
       "stream": "stdout",
       "text": [
        "Unpacking objects:  29% (26/89)   \r",
        "Unpacking objects:  30% (27/89)   \r",
        "Unpacking objects:  31% (28/89)   \r"
       ]
      },
      {
       "output_type": "stream",
       "stream": "stdout",
       "text": [
        "Unpacking objects:  32% (29/89)   \r",
        "Unpacking objects:  33% (30/89)   \r",
        "Unpacking objects:  34% (31/89)   \r",
        "Unpacking objects:  35% (32/89)   \r"
       ]
      },
      {
       "output_type": "stream",
       "stream": "stdout",
       "text": [
        "Unpacking objects:  37% (33/89)   \r",
        "Unpacking objects:  38% (34/89)   \r",
        "Unpacking objects:  39% (35/89)   \r",
        "Unpacking objects:  40% (36/89)   \r"
       ]
      },
      {
       "output_type": "stream",
       "stream": "stdout",
       "text": [
        "Unpacking objects:  41% (37/89)   \r",
        "Unpacking objects:  42% (38/89)   \r"
       ]
      },
      {
       "output_type": "stream",
       "stream": "stdout",
       "text": [
        "Unpacking objects:  43% (39/89)   \r",
        "Unpacking objects:  44% (40/89)   \r",
        "Unpacking objects:  46% (41/89)   \r",
        "Unpacking objects:  47% (42/89)   \r",
        "Unpacking objects:  48% (43/89)   \r"
       ]
      },
      {
       "output_type": "stream",
       "stream": "stdout",
       "text": [
        "Unpacking objects:  49% (44/89)   \r",
        "Unpacking objects:  50% (45/89)   \r",
        "Unpacking objects:  51% (46/89)   \r",
        "Unpacking objects:  52% (47/89)   \r",
        "Unpacking objects:  53% (48/89)   \r"
       ]
      },
      {
       "output_type": "stream",
       "stream": "stdout",
       "text": [
        "Unpacking objects:  55% (49/89)   \r",
        "Unpacking objects:  56% (50/89)   \r",
        "Unpacking objects:  57% (51/89)   \r",
        "Unpacking objects:  58% (52/89)   \r",
        "Unpacking objects:  59% (53/89)   \r",
        "Unpacking objects:  60% (54/89)   \r"
       ]
      },
      {
       "output_type": "stream",
       "stream": "stdout",
       "text": [
        "Unpacking objects:  61% (55/89)   \r",
        "Unpacking objects:  62% (56/89)   \r",
        "Unpacking objects:  64% (57/89)   \r",
        "Unpacking objects:  65% (58/89)   \r",
        "Unpacking objects:  66% (59/89)   \r",
        "Unpacking objects:  67% (60/89)   \r",
        "Unpacking objects:  68% (61/89)   \r",
        "Unpacking objects:  69% (62/89)   \r",
        "Unpacking objects:  70% (63/89)   \r"
       ]
      },
      {
       "output_type": "stream",
       "stream": "stdout",
       "text": [
        "remote: Total 89 (delta 16), reused 65 (delta 2)\u001b[K\r\n",
        "Unpacking objects:  71% (64/89)   \r",
        "Unpacking objects:  73% (65/89)   \r"
       ]
      },
      {
       "output_type": "stream",
       "stream": "stdout",
       "text": [
        "Unpacking objects:  74% (66/89)   \r",
        "Unpacking objects:  75% (67/89)   \r"
       ]
      },
      {
       "output_type": "stream",
       "stream": "stdout",
       "text": [
        "Unpacking objects:  76% (68/89)   \r",
        "Unpacking objects:  77% (69/89)   \r",
        "Unpacking objects:  78% (70/89)   \r",
        "Unpacking objects:  79% (71/89)   \r"
       ]
      },
      {
       "output_type": "stream",
       "stream": "stdout",
       "text": [
        "Unpacking objects:  80% (72/89)   \r",
        "Unpacking objects:  82% (73/89)   \r",
        "Unpacking objects:  83% (74/89)   \r",
        "Unpacking objects:  84% (75/89)   \r",
        "Unpacking objects:  85% (76/89)   \r",
        "Unpacking objects:  86% (77/89)   \r",
        "Unpacking objects:  87% (78/89)   \r",
        "Unpacking objects:  88% (79/89)   \r",
        "Unpacking objects:  89% (80/89)   \r",
        "Unpacking objects:  91% (81/89)   \r",
        "Unpacking objects:  92% (82/89)   \r",
        "Unpacking objects:  93% (83/89)   \r",
        "Unpacking objects:  94% (84/89)   \r",
        "Unpacking objects:  95% (85/89)   \r",
        "Unpacking objects:  96% (86/89)   \r",
        "Unpacking objects:  97% (87/89)   \r",
        "Unpacking objects:  98% (88/89)   \r",
        "Unpacking objects: 100% (89/89)   \r",
        "Unpacking objects: 100% (89/89), done.\r\n",
        "Checking connectivity... done.\r\n"
       ]
      }
     ],
     "prompt_number": 2
    },
    {
     "cell_type": "code",
     "collapsed": false,
     "input": [
      "!ls /home/c3h3/demo_ipynbs"
     ],
     "language": "python",
     "metadata": {},
     "outputs": [
      {
       "output_type": "stream",
       "stream": "stdout",
       "text": [
        "data  demo_ipynbs  README.md  shogun-ipynbs\r\n"
       ]
      }
     ],
     "prompt_number": 3
    },
    {
     "cell_type": "markdown",
     "metadata": {},
     "source": [
      "## Update data submodule ... "
     ]
    },
    {
     "cell_type": "markdown",
     "metadata": {},
     "source": [
      "After cloning, we need to download the data submodule ... \n",
      "\n",
      "So that we could use those data demo later on ... "
     ]
    },
    {
     "cell_type": "code",
     "collapsed": false,
     "input": [
      "! cd /home/c3h3/demo_ipynbs && git submodule init && git submodule update"
     ],
     "language": "python",
     "metadata": {},
     "outputs": [
      {
       "output_type": "stream",
       "stream": "stdout",
       "text": [
        "Submodule 'data' (https://github.com/shogun-toolbox/shogun-data.git) registered for path 'data'\r\n",
        "Cloning into 'data'...\r\n"
       ]
      },
      {
       "output_type": "stream",
       "stream": "stdout",
       "text": [
        "remote: Counting objects: 4659, done.\u001b[K\r\n"
       ]
      },
      {
       "output_type": "stream",
       "stream": "stdout",
       "text": [
        "Receiving objects:   0% (1/4659)   \r",
        "Receiving objects:   1% (47/4659)   \r"
       ]
      },
      {
       "output_type": "stream",
       "stream": "stdout",
       "text": [
        "Receiving objects:   1% (79/4659), 20.00 KiB | 12.00 KiB/s   \r",
        "Receiving objects:   2% (94/4659), 20.00 KiB | 12.00 KiB/s   \r"
       ]
      },
      {
       "output_type": "stream",
       "stream": "stdout",
       "text": [
        "Receiving objects:   3% (140/4659), 20.00 KiB | 12.00 KiB/s   \r",
        "Receiving objects:   4% (187/4659), 20.00 KiB | 12.00 KiB/s   \r",
        "Receiving objects:   5% (233/4659), 20.00 KiB | 12.00 KiB/s   \r"
       ]
      },
      {
       "output_type": "stream",
       "stream": "stdout",
       "text": [
        "Receiving objects:   5% (244/4659), 76.00 KiB | 36.00 KiB/s   \r"
       ]
      },
      {
       "output_type": "stream",
       "stream": "stdout",
       "text": [
        "Receiving objects:   5% (245/4659), 164.00 KiB | 46.00 KiB/s   \r"
       ]
      },
      {
       "output_type": "stream",
       "stream": "stdout",
       "text": [
        "Receiving objects:   5% (246/4659), 228.00 KiB | 53.00 KiB/s   \r"
       ]
      },
      {
       "output_type": "stream",
       "stream": "stdout",
       "text": [
        "Receiving objects:   5% (247/4659), 308.00 KiB | 46.00 KiB/s   \r"
       ]
      },
      {
       "output_type": "stream",
       "stream": "stdout",
       "text": [
        "Receiving objects:   5% (247/4659), 316.00 KiB | 43.00 KiB/s   \r"
       ]
      },
      {
       "output_type": "stream",
       "stream": "stdout",
       "text": [
        "Receiving objects:   5% (249/4659), 340.00 KiB | 42.00 KiB/s   \r"
       ]
      },
      {
       "output_type": "stream",
       "stream": "stdout",
       "text": [
        "Receiving objects:   5% (250/4659), 468.00 KiB | 54.00 KiB/s   \r"
       ]
      },
      {
       "output_type": "stream",
       "stream": "stdout",
       "text": [
        "Receiving objects:   5% (253/4659), 540.00 KiB | 57.00 KiB/s   \r"
       ]
      },
      {
       "output_type": "stream",
       "stream": "stdout",
       "text": [
        "Receiving objects:   5% (253/4659), 644.00 KiB | 59.00 KiB/s   \r"
       ]
      },
      {
       "output_type": "stream",
       "stream": "stdout",
       "text": [
        "Receiving objects:   5% (256/4659), 708.00 KiB | 61.00 KiB/s   \r"
       ]
      },
      {
       "output_type": "stream",
       "stream": "stdout",
       "text": [
        "Receiving objects:   5% (257/4659), 860.00 KiB | 88.00 KiB/s   \r"
       ]
      },
      {
       "output_type": "stream",
       "stream": "stdout",
       "text": [
        "Receiving objects:   5% (260/4659), 924.00 KiB | 99.00 KiB/s   \r"
       ]
      },
      {
       "output_type": "stream",
       "stream": "stdout",
       "text": [
        "Receiving objects:   5% (261/4659), 1.07 MiB | 104.00 KiB/s   \r"
       ]
      },
      {
       "output_type": "stream",
       "stream": "stdout",
       "text": [
        "Receiving objects:   5% (263/4659), 1.08 MiB | 95.00 KiB/s   \r"
       ]
      },
      {
       "output_type": "stream",
       "stream": "stdout",
       "text": [
        "Receiving objects:   5% (264/4659), 1.18 MiB | 94.00 KiB/s   \r"
       ]
      },
      {
       "output_type": "stream",
       "stream": "stdout",
       "text": [
        "Receiving objects:   5% (267/4659), 1.27 MiB | 99.00 KiB/s   \r"
       ]
      },
      {
       "output_type": "stream",
       "stream": "stdout",
       "text": [
        "Receiving objects:   6% (280/4659), 1.37 MiB | 110.00 KiB/s   \r"
       ]
      },
      {
       "output_type": "stream",
       "stream": "stdout",
       "text": [
        "Receiving objects:   7% (327/4659), 1.37 MiB | 110.00 KiB/s   \r"
       ]
      },
      {
       "output_type": "stream",
       "stream": "stdout",
       "text": [
        "Receiving objects:   7% (346/4659), 1.44 MiB | 107.00 KiB/s   \r",
        "Receiving objects:   8% (373/4659), 1.44 MiB | 107.00 KiB/s   \r"
       ]
      },
      {
       "output_type": "stream",
       "stream": "stdout",
       "text": [
        "Receiving objects:   9% (420/4659), 1.44 MiB | 107.00 KiB/s   \r"
       ]
      },
      {
       "output_type": "stream",
       "stream": "stdout",
       "text": [
        "Receiving objects:  10% (466/4659), 1.51 MiB | 107.00 KiB/s   \r",
        "Receiving objects:  11% (513/4659), 1.51 MiB | 107.00 KiB/s   \r"
       ]
      },
      {
       "output_type": "stream",
       "stream": "stdout",
       "text": [
        "Receiving objects:  12% (560/4659), 1.51 MiB | 107.00 KiB/s   \r"
       ]
      },
      {
       "output_type": "stream",
       "stream": "stdout",
       "text": [
        "Receiving objects:  12% (571/4659), 1.57 MiB | 110.00 KiB/s   \r",
        "Receiving objects:  13% (606/4659), 1.57 MiB | 110.00 KiB/s   \r"
       ]
      },
      {
       "output_type": "stream",
       "stream": "stdout",
       "text": [
        "Receiving objects:  14% (653/4659), 1.61 MiB | 95.00 KiB/s   \r"
       ]
      },
      {
       "output_type": "stream",
       "stream": "stdout",
       "text": [
        "Receiving objects:  14% (661/4659), 1.61 MiB | 95.00 KiB/s   \r"
       ]
      },
      {
       "output_type": "stream",
       "stream": "stdout",
       "text": [
        "Receiving objects:  15% (699/4659), 1.61 MiB | 95.00 KiB/s   \r"
       ]
      },
      {
       "output_type": "stream",
       "stream": "stdout",
       "text": [
        "Receiving objects:  16% (746/4659), 1.69 MiB | 110.00 KiB/s   \r"
       ]
      },
      {
       "output_type": "stream",
       "stream": "stdout",
       "text": [
        "Receiving objects:  16% (784/4659), 1.77 MiB | 116.00 KiB/s   \r",
        "Receiving objects:  17% (793/4659), 1.77 MiB | 116.00 KiB/s   \r"
       ]
      },
      {
       "output_type": "stream",
       "stream": "stdout",
       "text": [
        "Receiving objects:  18% (839/4659), 1.77 MiB | 116.00 KiB/s   \r"
       ]
      },
      {
       "output_type": "stream",
       "stream": "stdout",
       "text": [
        "Receiving objects:  19% (886/4659), 1.77 MiB | 116.00 KiB/s   \r"
       ]
      },
      {
       "output_type": "stream",
       "stream": "stdout",
       "text": [
        "Receiving objects:  20% (932/4659), 1.88 MiB | 126.00 KiB/s   \r"
       ]
      },
      {
       "output_type": "stream",
       "stream": "stdout",
       "text": [
        "Receiving objects:  20% (965/4659), 1.88 MiB | 126.00 KiB/s   \r",
        "Receiving objects:  21% (979/4659), 1.88 MiB | 126.00 KiB/s   \r"
       ]
      },
      {
       "output_type": "stream",
       "stream": "stdout",
       "text": [
        "Receiving objects:  22% (1025/4659), 1.88 MiB | 126.00 KiB/s   \r"
       ]
      },
      {
       "output_type": "stream",
       "stream": "stdout",
       "text": [
        "Receiving objects:  23% (1072/4659), 2.00 MiB | 135.00 KiB/s   \r"
       ]
      },
      {
       "output_type": "stream",
       "stream": "stdout",
       "text": [
        "Receiving objects:  24% (1119/4659), 2.00 MiB | 135.00 KiB/s   \r"
       ]
      },
      {
       "output_type": "stream",
       "stream": "stdout",
       "text": [
        "Receiving objects:  24% (1151/4659), 2.09 MiB | 131.00 KiB/s   \r",
        "Receiving objects:  25% (1165/4659), 2.09 MiB | 131.00 KiB/s   \r"
       ]
      },
      {
       "output_type": "stream",
       "stream": "stdout",
       "text": [
        "Receiving objects:  26% (1212/4659), 2.15 MiB | 135.00 KiB/s   \r"
       ]
      },
      {
       "output_type": "stream",
       "stream": "stdout",
       "text": [
        "Receiving objects:  27% (1258/4659), 2.15 MiB | 135.00 KiB/s   \r"
       ]
      },
      {
       "output_type": "stream",
       "stream": "stdout",
       "text": [
        "Receiving objects:  27% (1294/4659), 2.24 MiB | 137.00 KiB/s   \r",
        "Receiving objects:  28% (1305/4659), 2.24 MiB | 137.00 KiB/s   \r"
       ]
      },
      {
       "output_type": "stream",
       "stream": "stdout",
       "text": [
        "Receiving objects:  29% (1352/4659), 2.24 MiB | 137.00 KiB/s   \r"
       ]
      },
      {
       "output_type": "stream",
       "stream": "stdout",
       "text": [
        "Receiving objects:  30% (1398/4659), 2.24 MiB | 137.00 KiB/s   \r"
       ]
      },
      {
       "output_type": "stream",
       "stream": "stdout",
       "text": [
        "Receiving objects:  31% (1445/4659), 2.32 MiB | 143.00 KiB/s   \r"
       ]
      },
      {
       "output_type": "stream",
       "stream": "stdout",
       "text": [
        "Receiving objects:  31% (1462/4659), 2.32 MiB | 143.00 KiB/s   \r"
       ]
      },
      {
       "output_type": "stream",
       "stream": "stdout",
       "text": [
        "Receiving objects:  32% (1491/4659), 2.39 MiB | 154.00 KiB/s   \r"
       ]
      },
      {
       "output_type": "stream",
       "stream": "stdout",
       "text": [
        "Receiving objects:  33% (1538/4659), 2.39 MiB | 154.00 KiB/s   \r"
       ]
      },
      {
       "output_type": "stream",
       "stream": "stdout",
       "text": [
        "Receiving objects:  34% (1585/4659), 2.46 MiB | 150.00 KiB/s   \r"
       ]
      },
      {
       "output_type": "stream",
       "stream": "stdout",
       "text": [
        "Receiving objects:  34% (1615/4659), 2.50 MiB | 141.00 KiB/s   \r"
       ]
      },
      {
       "output_type": "stream",
       "stream": "stdout",
       "text": [
        "Receiving objects:  34% (1627/4659), 2.58 MiB | 136.00 KiB/s   \r"
       ]
      },
      {
       "output_type": "stream",
       "stream": "stdout",
       "text": [
        "Receiving objects:  35% (1631/4659), 2.68 MiB | 131.00 KiB/s   \r"
       ]
      },
      {
       "output_type": "stream",
       "stream": "stdout",
       "text": [
        "Receiving objects:  35% (1654/4659), 2.68 MiB | 131.00 KiB/s   \r"
       ]
      },
      {
       "output_type": "stream",
       "stream": "stdout",
       "text": [
        "Receiving objects:  36% (1678/4659), 2.80 MiB | 136.00 KiB/s   \r"
       ]
      },
      {
       "output_type": "stream",
       "stream": "stdout",
       "text": [
        "Receiving objects:  36% (1709/4659), 3.04 MiB | 165.00 KiB/s   \r"
       ]
      },
      {
       "output_type": "stream",
       "stream": "stdout",
       "text": [
        "Receiving objects:  37% (1724/4659), 3.04 MiB | 165.00 KiB/s   \r"
       ]
      },
      {
       "output_type": "stream",
       "stream": "stdout",
       "text": [
        "Receiving objects:  37% (1755/4659), 3.21 MiB | 174.00 KiB/s   \r"
       ]
      },
      {
       "output_type": "stream",
       "stream": "stdout",
       "text": [
        "Receiving objects:  38% (1771/4659), 3.21 MiB | 174.00 KiB/s   \r"
       ]
      },
      {
       "output_type": "stream",
       "stream": "stdout",
       "text": [
        "Receiving objects:  39% (1818/4659), 3.38 MiB | 192.00 KiB/s   \r"
       ]
      },
      {
       "output_type": "stream",
       "stream": "stdout",
       "text": [
        "Receiving objects:  39% (1856/4659), 3.61 MiB | 220.00 KiB/s   \r"
       ]
      },
      {
       "output_type": "stream",
       "stream": "stdout",
       "text": [
        "Receiving objects:  40% (1864/4659), 3.83 MiB | 245.00 KiB/s   \r"
       ]
      },
      {
       "output_type": "stream",
       "stream": "stdout",
       "text": [
        "Receiving objects:  40% (1875/4659), 4.25 MiB | 321.00 KiB/s   \r"
       ]
      },
      {
       "output_type": "stream",
       "stream": "stdout",
       "text": [
        "Receiving objects:  41% (1911/4659), 5.10 MiB | 457.00 KiB/s   \r"
       ]
      },
      {
       "output_type": "stream",
       "stream": "stdout",
       "text": [
        "Receiving objects:  41% (1913/4659), 5.10 MiB | 457.00 KiB/s   \r"
       ]
      },
      {
       "output_type": "stream",
       "stream": "stdout",
       "text": [
        "Receiving objects:  41% (1940/4659), 6.65 MiB | 738.00 KiB/s   \r"
       ]
      },
      {
       "output_type": "stream",
       "stream": "stdout",
       "text": [
        "Receiving objects:  41% (1940/4659), 8.02 MiB | 949.00 KiB/s   \r"
       ]
      },
      {
       "output_type": "stream",
       "stream": "stdout",
       "text": [
        "Receiving objects:  41% (1940/4659), 8.58 MiB | 801.00 KiB/s   \r"
       ]
      },
      {
       "output_type": "stream",
       "stream": "stdout",
       "text": [
        "Receiving objects:  41% (1940/4659), 8.60 MiB | 605.00 KiB/s   \r"
       ]
      },
      {
       "output_type": "stream",
       "stream": "stdout",
       "text": [
        "Receiving objects:  41% (1940/4659), 8.94 MiB | 602.00 KiB/s   \r"
       ]
      },
      {
       "output_type": "stream",
       "stream": "stdout",
       "text": [
        "Receiving objects:  41% (1940/4659), 9.97 MiB | 677.00 KiB/s   \r"
       ]
      },
      {
       "output_type": "stream",
       "stream": "stdout",
       "text": [
        "Receiving objects:  41% (1940/4659), 10.72 MiB | 611.00 KiB/s   \r"
       ]
      },
      {
       "output_type": "stream",
       "stream": "stdout",
       "text": [
        "Receiving objects:  41% (1942/4659), 11.38 MiB | 504.00 KiB/s   \r"
       ]
      },
      {
       "output_type": "stream",
       "stream": "stdout",
       "text": [
        "Receiving objects:  41% (1942/4659), 12.21 MiB | 632.00 KiB/s   \r"
       ]
      },
      {
       "output_type": "stream",
       "stream": "stdout",
       "text": [
        "Receiving objects:  41% (1942/4659), 12.92 MiB | 820.00 KiB/s   \r"
       ]
      },
      {
       "output_type": "stream",
       "stream": "stdout",
       "text": [
        "Receiving objects:  41% (1942/4659), 13.75 MiB | 698.00 KiB/s   \r"
       ]
      },
      {
       "output_type": "stream",
       "stream": "stdout",
       "text": [
        "Receiving objects:  41% (1942/4659), 14.71 MiB | 790.00 KiB/s   \r"
       ]
      },
      {
       "output_type": "stream",
       "stream": "stdout",
       "text": [
        "Receiving objects:  41% (1942/4659), 15.32 MiB | 846.00 KiB/s   \r"
       ]
      },
      {
       "output_type": "stream",
       "stream": "stdout",
       "text": [
        "Receiving objects:  41% (1942/4659), 16.32 MiB | 874.00 KiB/s   \r"
       ]
      },
      {
       "output_type": "stream",
       "stream": "stdout",
       "text": [
        "Receiving objects:  41% (1942/4659), 16.93 MiB | 857.00 KiB/s   \r"
       ]
      },
      {
       "output_type": "stream",
       "stream": "stdout",
       "text": [
        "Receiving objects:  41% (1942/4659), 17.89 MiB | 875.00 KiB/s   \r"
       ]
      },
      {
       "output_type": "stream",
       "stream": "stdout",
       "text": [
        "Receiving objects:  41% (1943/4659), 19.06 MiB | 922.00 KiB/s   \r"
       ]
      },
      {
       "output_type": "stream",
       "stream": "stdout",
       "text": [
        "Receiving objects:  41% (1943/4659), 20.09 MiB | 915.00 KiB/s   \r"
       ]
      },
      {
       "output_type": "stream",
       "stream": "stdout",
       "text": [
        "Receiving objects:  41% (1943/4659), 21.21 MiB | 968.00 KiB/s   \r"
       ]
      },
      {
       "output_type": "stream",
       "stream": "stdout",
       "text": [
        "Receiving objects:  41% (1943/4659), 21.39 MiB | 878.00 KiB/s   \r"
       ]
      },
      {
       "output_type": "stream",
       "stream": "stdout",
       "text": [
        "Receiving objects:  41% (1943/4659), 22.17 MiB | 904.00 KiB/s   \r"
       ]
      },
      {
       "output_type": "stream",
       "stream": "stdout",
       "text": [
        "Receiving objects:  41% (1943/4659), 23.20 MiB | 766.00 KiB/s   \r"
       ]
      },
      {
       "output_type": "stream",
       "stream": "stdout",
       "text": [
        "Receiving objects:  41% (1943/4659), 24.85 MiB | 826.00 KiB/s   \r"
       ]
      },
      {
       "output_type": "stream",
       "stream": "stdout",
       "text": [
        "Receiving objects:  41% (1943/4659), 26.00 MiB | 785.00 KiB/s   \r"
       ]
      },
      {
       "output_type": "stream",
       "stream": "stdout",
       "text": [
        "Receiving objects:  41% (1943/4659), 26.74 MiB | 848.00 KiB/s   \r"
       ]
      },
      {
       "output_type": "stream",
       "stream": "stdout",
       "text": [
        "Receiving objects:  41% (1943/4659), 28.23 MiB | 980.00 KiB/s   \r"
       ]
      },
      {
       "output_type": "stream",
       "stream": "stdout",
       "text": [
        "Receiving objects:  41% (1943/4659), 29.14 MiB | 1.14 MiB/s   \r"
       ]
      },
      {
       "output_type": "stream",
       "stream": "stdout",
       "text": [
        "Receiving objects:  41% (1943/4659), 29.64 MiB | 995.00 KiB/s   \r"
       ]
      },
      {
       "output_type": "stream",
       "stream": "stdout",
       "text": [
        "Receiving objects:  41% (1943/4659), 29.86 MiB | 838.00 KiB/s   \r"
       ]
      },
      {
       "output_type": "stream",
       "stream": "stdout",
       "text": [
        "Receiving objects:  41% (1943/4659), 30.78 MiB | 834.00 KiB/s   \r"
       ]
      },
      {
       "output_type": "stream",
       "stream": "stdout",
       "text": [
        "Receiving objects:  41% (1944/4659), 31.12 MiB | 789.00 KiB/s   \r"
       ]
      },
      {
       "output_type": "stream",
       "stream": "stdout",
       "text": [
        "Receiving objects:  41% (1944/4659), 31.95 MiB | 667.00 KiB/s   \r"
       ]
      },
      {
       "output_type": "stream",
       "stream": "stdout",
       "text": [
        "Receiving objects:  41% (1944/4659), 33.07 MiB | 699.00 KiB/s   \r"
       ]
      },
      {
       "output_type": "stream",
       "stream": "stdout",
       "text": [
        "Receiving objects:  41% (1944/4659), 33.36 MiB | 608.00 KiB/s   \r"
       ]
      },
      {
       "output_type": "stream",
       "stream": "stdout",
       "text": [
        "Receiving objects:  41% (1944/4659), 34.43 MiB | 777.00 KiB/s   \r"
       ]
      },
      {
       "output_type": "stream",
       "stream": "stdout",
       "text": [
        "Receiving objects:  41% (1944/4659), 35.32 MiB | 778.00 KiB/s   \r"
       ]
      },
      {
       "output_type": "stream",
       "stream": "stdout",
       "text": [
        "Receiving objects:  41% (1944/4659), 35.86 MiB | 632.00 KiB/s   \r"
       ]
      },
      {
       "output_type": "stream",
       "stream": "stdout",
       "text": [
        "Receiving objects:  41% (1945/4659), 38.07 MiB | 819.00 KiB/s   \r"
       ]
      },
      {
       "output_type": "stream",
       "stream": "stdout",
       "text": [
        "Receiving objects:  41% (1945/4659), 38.78 MiB | 968.00 KiB/s   \r"
       ]
      },
      {
       "output_type": "stream",
       "stream": "stdout",
       "text": [
        "Receiving objects:  41% (1945/4659), 40.43 MiB | 1.05 MiB/s   \r"
       ]
      },
      {
       "output_type": "stream",
       "stream": "stdout",
       "text": [
        "Receiving objects:  41% (1945/4659), 42.04 MiB | 1.18 MiB/s   \r"
       ]
      },
      {
       "output_type": "stream",
       "stream": "stdout",
       "text": [
        "Receiving objects:  41% (1945/4659), 43.64 MiB | 1.71 MiB/s   \r"
       ]
      },
      {
       "output_type": "stream",
       "stream": "stdout",
       "text": [
        "Receiving objects:  41% (1945/4659), 44.98 MiB | 1.50 MiB/s   \r"
       ]
      },
      {
       "output_type": "stream",
       "stream": "stdout",
       "text": [
        "Receiving objects:  41% (1945/4659), 45.92 MiB | 1.37 MiB/s   \r"
       ]
      },
      {
       "output_type": "stream",
       "stream": "stdout",
       "text": [
        "Receiving objects:  41% (1945/4659), 47.22 MiB | 1.30 MiB/s   \r"
       ]
      },
      {
       "output_type": "stream",
       "stream": "stdout",
       "text": [
        "Receiving objects:  41% (1945/4659), 48.61 MiB | 1.23 MiB/s   \r"
       ]
      },
      {
       "output_type": "stream",
       "stream": "stdout",
       "text": [
        "Receiving objects:  41% (1945/4659), 49.77 MiB | 1.17 MiB/s   \r"
       ]
      },
      {
       "output_type": "stream",
       "stream": "stdout",
       "text": [
        "Receiving objects:  41% (1945/4659), 50.79 MiB | 1.14 MiB/s   \r"
       ]
      },
      {
       "output_type": "stream",
       "stream": "stdout",
       "text": [
        "Receiving objects:  41% (1945/4659), 51.19 MiB | 1.01 MiB/s   \r"
       ]
      },
      {
       "output_type": "stream",
       "stream": "stdout",
       "text": [
        "Receiving objects:  41% (1945/4659), 52.13 MiB | 929.00 KiB/s   \r"
       ]
      },
      {
       "output_type": "stream",
       "stream": "stdout",
       "text": [
        "Receiving objects:  41% (1945/4659), 52.32 MiB | 822.00 KiB/s   \r"
       ]
      },
      {
       "output_type": "stream",
       "stream": "stdout",
       "text": [
        "Receiving objects:  41% (1945/4659), 52.44 MiB | 671.00 KiB/s   \r"
       ]
      },
      {
       "output_type": "stream",
       "stream": "stdout",
       "text": [
        "Receiving objects:  41% (1945/4659), 52.99 MiB | 563.00 KiB/s   \r"
       ]
      },
      {
       "output_type": "stream",
       "stream": "stdout",
       "text": [
        "Receiving objects:  41% (1945/4659), 53.63 MiB | 470.00 KiB/s   \r"
       ]
      },
      {
       "output_type": "stream",
       "stream": "stdout",
       "text": [
        "Receiving objects:  41% (1945/4659), 54.07 MiB | 503.00 KiB/s   \r"
       ]
      },
      {
       "output_type": "stream",
       "stream": "stdout",
       "text": [
        "Receiving objects:  41% (1945/4659), 54.83 MiB | 487.00 KiB/s   \r"
       ]
      },
      {
       "output_type": "stream",
       "stream": "stdout",
       "text": [
        "Receiving objects:  41% (1945/4659), 55.46 MiB | 586.00 KiB/s   \r"
       ]
      },
      {
       "output_type": "stream",
       "stream": "stdout",
       "text": [
        "Receiving objects:  41% (1945/4659), 55.97 MiB | 579.00 KiB/s   \r"
       ]
      },
      {
       "output_type": "stream",
       "stream": "stdout",
       "text": [
        "Receiving objects:  41% (1945/4659), 56.58 MiB | 616.00 KiB/s   \r"
       ]
      },
      {
       "output_type": "stream",
       "stream": "stdout",
       "text": [
        "Receiving objects:  41% (1945/4659), 57.14 MiB | 551.00 KiB/s   \r"
       ]
      },
      {
       "output_type": "stream",
       "stream": "stdout",
       "text": [
        "Receiving objects:  41% (1945/4659), 57.40 MiB | 537.00 KiB/s   \r"
       ]
      },
      {
       "output_type": "stream",
       "stream": "stdout",
       "text": [
        "Receiving objects:  41% (1945/4659), 58.15 MiB | 542.00 KiB/s   \r"
       ]
      },
      {
       "output_type": "stream",
       "stream": "stdout",
       "text": [
        "Receiving objects:  41% (1945/4659), 58.81 MiB | 573.00 KiB/s   \r"
       ]
      },
      {
       "output_type": "stream",
       "stream": "stdout",
       "text": [
        "Receiving objects:  41% (1945/4659), 58.82 MiB | 499.00 KiB/s   \r"
       ]
      },
      {
       "output_type": "stream",
       "stream": "stdout",
       "text": [
        "Receiving objects:  41% (1945/4659), 59.81 MiB | 576.00 KiB/s   \r"
       ]
      },
      {
       "output_type": "stream",
       "stream": "stdout",
       "text": [
        "Receiving objects:  41% (1945/4659), 60.67 MiB | 591.00 KiB/s   \r"
       ]
      },
      {
       "output_type": "stream",
       "stream": "stdout",
       "text": [
        "Receiving objects:  41% (1945/4659), 60.85 MiB | 596.00 KiB/s   \r"
       ]
      },
      {
       "output_type": "stream",
       "stream": "stdout",
       "text": [
        "Receiving objects:  41% (1945/4659), 61.00 MiB | 516.00 KiB/s   \r"
       ]
      },
      {
       "output_type": "stream",
       "stream": "stdout",
       "text": [
        "Receiving objects:  41% (1946/4659), 61.79 MiB | 536.00 KiB/s   \r"
       ]
      },
      {
       "output_type": "stream",
       "stream": "stdout",
       "text": [
        "Receiving objects:  41% (1946/4659), 62.50 MiB | 586.00 KiB/s   \r"
       ]
      },
      {
       "output_type": "stream",
       "stream": "stdout",
       "text": [
        "Receiving objects:  41% (1946/4659), 63.15 MiB | 530.00 KiB/s   \r"
       ]
      },
      {
       "output_type": "stream",
       "stream": "stdout",
       "text": [
        "Receiving objects:  41% (1946/4659), 63.79 MiB | 590.00 KiB/s   \r"
       ]
      },
      {
       "output_type": "stream",
       "stream": "stdout",
       "text": [
        "Receiving objects:  41% (1946/4659), 64.50 MiB | 624.00 KiB/s   \r"
       ]
      },
      {
       "output_type": "stream",
       "stream": "stdout",
       "text": [
        "Receiving objects:  41% (1946/4659), 64.90 MiB | 644.00 KiB/s   \r"
       ]
      },
      {
       "output_type": "stream",
       "stream": "stdout",
       "text": [
        "Receiving objects:  41% (1946/4659), 65.54 MiB | 636.00 KiB/s   \r"
       ]
      },
      {
       "output_type": "stream",
       "stream": "stdout",
       "text": [
        "Receiving objects:  42% (1957/4659), 65.54 MiB | 636.00 KiB/s   \r"
       ]
      },
      {
       "output_type": "stream",
       "stream": "stdout",
       "text": [
        "Receiving objects:  42% (1981/4659), 65.82 MiB | 646.00 KiB/s   \r"
       ]
      },
      {
       "output_type": "stream",
       "stream": "stdout",
       "text": [
        "Receiving objects:  43% (2004/4659), 66.20 MiB | 645.00 KiB/s   \r"
       ]
      },
      {
       "output_type": "stream",
       "stream": "stdout",
       "text": [
        "Receiving objects:  44% (2050/4659), 66.53 MiB | 618.00 KiB/s   \r"
       ]
      },
      {
       "output_type": "stream",
       "stream": "stdout",
       "text": [
        "Receiving objects:  44% (2061/4659), 66.53 MiB | 618.00 KiB/s   \r"
       ]
      },
      {
       "output_type": "stream",
       "stream": "stdout",
       "text": [
        "Receiving objects:  45% (2097/4659), 66.87 MiB | 643.00 KiB/s   \r"
       ]
      },
      {
       "output_type": "stream",
       "stream": "stdout",
       "text": [
        "Receiving objects:  45% (2137/4659), 67.29 MiB | 648.00 KiB/s   \r"
       ]
      },
      {
       "output_type": "stream",
       "stream": "stdout",
       "text": [
        "Receiving objects:  46% (2144/4659), 67.29 MiB | 648.00 KiB/s   \r"
       ]
      },
      {
       "output_type": "stream",
       "stream": "stdout",
       "text": [
        "Receiving objects:  47% (2190/4659), 67.71 MiB | 672.00 KiB/s   \r"
       ]
      },
      {
       "output_type": "stream",
       "stream": "stdout",
       "text": [
        "Receiving objects:  47% (2217/4659), 67.99 MiB | 650.00 KiB/s   \r"
       ]
      },
      {
       "output_type": "stream",
       "stream": "stdout",
       "text": [
        "Receiving objects:  48% (2237/4659), 67.99 MiB | 650.00 KiB/s   \r"
       ]
      },
      {
       "output_type": "stream",
       "stream": "stdout",
       "text": [
        "Receiving objects:  49% (2283/4659), 68.54 MiB | 678.00 KiB/s   \r"
       ]
      },
      {
       "output_type": "stream",
       "stream": "stdout",
       "text": [
        "Receiving objects:  49% (2323/4659), 69.02 MiB | 732.00 KiB/s   \r"
       ]
      },
      {
       "output_type": "stream",
       "stream": "stdout",
       "text": [
        "Receiving objects:  50% (2330/4659), 69.02 MiB | 732.00 KiB/s   \r"
       ]
      },
      {
       "output_type": "stream",
       "stream": "stdout",
       "text": [
        "Receiving objects:  50% (2353/4659), 69.86 MiB | 781.00 KiB/s   \r"
       ]
      },
      {
       "output_type": "stream",
       "stream": "stdout",
       "text": [
        "Receiving objects:  50% (2353/4659), 70.81 MiB | 852.00 KiB/s   \r"
       ]
      },
      {
       "output_type": "stream",
       "stream": "stdout",
       "text": [
        "Receiving objects:  50% (2353/4659), 71.24 MiB | 754.00 KiB/s   \r"
       ]
      },
      {
       "output_type": "stream",
       "stream": "stdout",
       "text": [
        "Receiving objects:  50% (2358/4659), 72.20 MiB | 778.00 KiB/s   \r"
       ]
      },
      {
       "output_type": "stream",
       "stream": "stdout",
       "text": [
        "Receiving objects:  50% (2358/4659), 72.99 MiB | 753.00 KiB/s   \r"
       ]
      },
      {
       "output_type": "stream",
       "stream": "stdout",
       "text": [
        "Receiving objects:  50% (2359/4659), 73.55 MiB | 793.00 KiB/s   \r"
       ]
      },
      {
       "output_type": "stream",
       "stream": "stdout",
       "text": [
        "Receiving objects:  50% (2376/4659), 74.55 MiB | 524.00 KiB/s   \r",
        "Receiving objects:  51% (2377/4659), 74.55 MiB | 524.00 KiB/s   \r",
        "Receiving objects:  52% (2423/4659), 74.55 MiB | 524.00 KiB/s   \r"
       ]
      },
      {
       "output_type": "stream",
       "stream": "stdout",
       "text": [
        "Receiving objects:  52% (2431/4659), 75.79 MiB | 620.00 KiB/s   \r"
       ]
      },
      {
       "output_type": "stream",
       "stream": "stdout",
       "text": [
        "Receiving objects:  52% (2431/4659), 76.52 MiB | 649.00 KiB/s   \r"
       ]
      },
      {
       "output_type": "stream",
       "stream": "stdout",
       "text": [
        "Receiving objects:  52% (2431/4659), 77.55 MiB | 709.00 KiB/s   \r"
       ]
      },
      {
       "output_type": "stream",
       "stream": "stdout",
       "text": [
        "Receiving objects:  52% (2431/4659), 78.54 MiB | 711.00 KiB/s   \r"
       ]
      },
      {
       "output_type": "stream",
       "stream": "stdout",
       "text": [
        "Receiving objects:  52% (2431/4659), 78.83 MiB | 681.00 KiB/s   \r"
       ]
      },
      {
       "output_type": "stream",
       "stream": "stdout",
       "text": [
        "Receiving objects:  52% (2431/4659), 80.22 MiB | 703.00 KiB/s   \r"
       ]
      },
      {
       "output_type": "stream",
       "stream": "stdout",
       "text": [
        "Receiving objects:  52% (2431/4659), 81.41 MiB | 1014.00 KiB/s   \r"
       ]
      },
      {
       "output_type": "stream",
       "stream": "stdout",
       "text": [
        "Receiving objects:  52% (2431/4659), 82.55 MiB | 951.00 KiB/s   \r"
       ]
      },
      {
       "output_type": "stream",
       "stream": "stdout",
       "text": [
        "Receiving objects:  52% (2431/4659), 83.62 MiB | 1000.00 KiB/s   \r"
       ]
      },
      {
       "output_type": "stream",
       "stream": "stdout",
       "text": [
        "Receiving objects:  52% (2431/4659), 84.07 MiB | 1.05 MiB/s   \r"
       ]
      },
      {
       "output_type": "stream",
       "stream": "stdout",
       "text": [
        "Receiving objects:  52% (2431/4659), 85.04 MiB | 1024.00 KiB/s   \r"
       ]
      },
      {
       "output_type": "stream",
       "stream": "stdout",
       "text": [
        "Receiving objects:  52% (2431/4659), 86.17 MiB | 1.00 MiB/s   \r"
       ]
      },
      {
       "output_type": "stream",
       "stream": "stdout",
       "text": [
        "Receiving objects:  52% (2432/4659), 86.67 MiB | 1.01 MiB/s   \r"
       ]
      },
      {
       "output_type": "stream",
       "stream": "stdout",
       "text": [
        "Receiving objects:  52% (2432/4659), 88.25 MiB | 994.00 KiB/s   \r"
       ]
      },
      {
       "output_type": "stream",
       "stream": "stdout",
       "text": [
        "Receiving objects:  52% (2432/4659), 89.36 MiB | 1.01 MiB/s   \r"
       ]
      },
      {
       "output_type": "stream",
       "stream": "stdout",
       "text": [
        "Receiving objects:  52% (2432/4659), 90.67 MiB | 1.05 MiB/s   \r"
       ]
      },
      {
       "output_type": "stream",
       "stream": "stdout",
       "text": [
        "Receiving objects:  52% (2432/4659), 91.23 MiB | 1.03 MiB/s   \r"
       ]
      },
      {
       "output_type": "stream",
       "stream": "stdout",
       "text": [
        "Receiving objects:  52% (2432/4659), 92.37 MiB | 1.04 MiB/s   \r"
       ]
      },
      {
       "output_type": "stream",
       "stream": "stdout",
       "text": [
        "Receiving objects:  52% (2432/4659), 93.62 MiB | 1.08 MiB/s   \r"
       ]
      },
      {
       "output_type": "stream",
       "stream": "stdout",
       "text": [
        "Receiving objects:  52% (2432/4659), 94.99 MiB | 1.11 MiB/s   \r"
       ]
      },
      {
       "output_type": "stream",
       "stream": "stdout",
       "text": [
        "Receiving objects:  52% (2432/4659), 96.18 MiB | 1.10 MiB/s   \r"
       ]
      },
      {
       "output_type": "stream",
       "stream": "stdout",
       "text": [
        "Receiving objects:  52% (2432/4659), 97.46 MiB | 1.18 MiB/s   \r"
       ]
      },
      {
       "output_type": "stream",
       "stream": "stdout",
       "text": [
        "Receiving objects:  52% (2432/4659), 97.96 MiB | 1.16 MiB/s   \r"
       ]
      },
      {
       "output_type": "stream",
       "stream": "stdout",
       "text": [
        "Receiving objects:  52% (2432/4659), 99.55 MiB | 1.21 MiB/s   \r"
       ]
      },
      {
       "output_type": "stream",
       "stream": "stdout",
       "text": [
        "Receiving objects:  52% (2432/4659), 100.77 MiB | 1.21 MiB/s   \r"
       ]
      },
      {
       "output_type": "stream",
       "stream": "stdout",
       "text": [
        "Receiving objects:  52% (2432/4659), 102.05 MiB | 1.25 MiB/s   \r"
       ]
      },
      {
       "output_type": "stream",
       "stream": "stdout",
       "text": [
        "Receiving objects:  52% (2432/4659), 103.21 MiB | 1.22 MiB/s   \r"
       ]
      },
      {
       "output_type": "stream",
       "stream": "stdout",
       "text": [
        "Receiving objects:  52% (2432/4659), 104.18 MiB | 1.15 MiB/s   \r"
       ]
      },
      {
       "output_type": "stream",
       "stream": "stdout",
       "text": [
        "Receiving objects:  52% (2432/4659), 105.07 MiB | 1.04 MiB/s   \r"
       ]
      },
      {
       "output_type": "stream",
       "stream": "stdout",
       "text": [
        "Receiving objects:  52% (2432/4659), 106.34 MiB | 1.07 MiB/s   \r"
       ]
      },
      {
       "output_type": "stream",
       "stream": "stdout",
       "text": [
        "Receiving objects:  52% (2432/4659), 107.61 MiB | 1.11 MiB/s   \r"
       ]
      },
      {
       "output_type": "stream",
       "stream": "stdout",
       "text": [
        "Receiving objects:  52% (2432/4659), 108.09 MiB | 835.00 KiB/s   \r"
       ]
      },
      {
       "output_type": "stream",
       "stream": "stdout",
       "text": [
        "Receiving objects:  52% (2432/4659), 109.59 MiB | 887.00 KiB/s   \r"
       ]
      },
      {
       "output_type": "stream",
       "stream": "stdout",
       "text": [
        "Receiving objects:  52% (2432/4659), 111.42 MiB | 1015.00 KiB/s   \r"
       ]
      },
      {
       "output_type": "stream",
       "stream": "stdout",
       "text": [
        "Receiving objects:  52% (2432/4659), 113.11 MiB | 1.16 MiB/s   \r"
       ]
      },
      {
       "output_type": "stream",
       "stream": "stdout",
       "text": [
        "Receiving objects:  52% (2432/4659), 115.00 MiB | 1.28 MiB/s   \r"
       ]
      },
      {
       "output_type": "stream",
       "stream": "stdout",
       "text": [
        "Receiving objects:  52% (2432/4659), 116.41 MiB | 1.67 MiB/s   \r"
       ]
      },
      {
       "output_type": "stream",
       "stream": "stdout",
       "text": [
        "Receiving objects:  52% (2432/4659), 116.85 MiB | 1.40 MiB/s   \r"
       ]
      },
      {
       "output_type": "stream",
       "stream": "stdout",
       "text": [
        "Receiving objects:  52% (2432/4659), 118.33 MiB | 1.31 MiB/s   \r"
       ]
      },
      {
       "output_type": "stream",
       "stream": "stdout",
       "text": [
        "Receiving objects:  52% (2432/4659), 118.72 MiB | 1.22 MiB/s   \r"
       ]
      },
      {
       "output_type": "stream",
       "stream": "stdout",
       "text": [
        "Receiving objects:  52% (2432/4659), 120.21 MiB | 1.06 MiB/s   \r"
       ]
      },
      {
       "output_type": "stream",
       "stream": "stdout",
       "text": [
        "Receiving objects:  52% (2432/4659), 121.24 MiB | 1.12 MiB/s   \r"
       ]
      },
      {
       "output_type": "stream",
       "stream": "stdout",
       "text": [
        "Receiving objects:  52% (2432/4659), 121.25 MiB | 950.00 KiB/s   \r"
       ]
      },
      {
       "output_type": "stream",
       "stream": "stdout",
       "text": [
        "Receiving objects:  52% (2432/4659), 122.32 MiB | 866.00 KiB/s   \r"
       ]
      },
      {
       "output_type": "stream",
       "stream": "stdout",
       "text": [
        "Receiving objects:  52% (2432/4659), 123.43 MiB | 868.00 KiB/s   \r"
       ]
      },
      {
       "output_type": "stream",
       "stream": "stdout",
       "text": [
        "Receiving objects:  52% (2432/4659), 124.19 MiB | 951.00 KiB/s   \r"
       ]
      },
      {
       "output_type": "stream",
       "stream": "stdout",
       "text": [
        "Receiving objects:  52% (2432/4659), 125.69 MiB | 1015.00 KiB/s   \r"
       ]
      },
      {
       "output_type": "stream",
       "stream": "stdout",
       "text": [
        "Receiving objects:  52% (2432/4659), 125.83 MiB | 827.00 KiB/s   \r"
       ]
      },
      {
       "output_type": "stream",
       "stream": "stdout",
       "text": [
        "Receiving objects:  52% (2432/4659), 127.07 MiB | 867.00 KiB/s   \r"
       ]
      },
      {
       "output_type": "stream",
       "stream": "stdout",
       "text": [
        "Receiving objects:  52% (2432/4659), 128.36 MiB | 981.00 KiB/s   \r"
       ]
      },
      {
       "output_type": "stream",
       "stream": "stdout",
       "text": [
        "Receiving objects:  52% (2432/4659), 129.55 MiB | 1.02 MiB/s   \r"
       ]
      },
      {
       "output_type": "stream",
       "stream": "stdout",
       "text": [
        "Receiving objects:  52% (2432/4659), 130.75 MiB | 1.03 MiB/s   \r"
       ]
      },
      {
       "output_type": "stream",
       "stream": "stdout",
       "text": [
        "Receiving objects:  52% (2432/4659), 131.96 MiB | 1.08 MiB/s   \r"
       ]
      },
      {
       "output_type": "stream",
       "stream": "stdout",
       "text": [
        "Receiving objects:  52% (2432/4659), 132.04 MiB | 1.04 MiB/s   \r"
       ]
      },
      {
       "output_type": "stream",
       "stream": "stdout",
       "text": [
        "Receiving objects:  52% (2432/4659), 133.32 MiB | 1020.00 KiB/s   \r"
       ]
      },
      {
       "output_type": "stream",
       "stream": "stdout",
       "text": [
        "Receiving objects:  52% (2432/4659), 134.68 MiB | 1009.00 KiB/s   \r"
       ]
      },
      {
       "output_type": "stream",
       "stream": "stdout",
       "text": [
        "Receiving objects:  52% (2432/4659), 135.48 MiB | 1014.00 KiB/s   \r"
       ]
      },
      {
       "output_type": "stream",
       "stream": "stdout",
       "text": [
        "Receiving objects:  52% (2432/4659), 136.50 MiB | 1.06 MiB/s   \r"
       ]
      },
      {
       "output_type": "stream",
       "stream": "stdout",
       "text": [
        "Receiving objects:  52% (2432/4659), 137.12 MiB | 701.00 KiB/s   \r"
       ]
      },
      {
       "output_type": "stream",
       "stream": "stdout",
       "text": [
        "Receiving objects:  52% (2432/4659), 137.17 MiB | 583.00 KiB/s   \r"
       ]
      },
      {
       "output_type": "stream",
       "stream": "stdout",
       "text": [
        "Receiving objects:  52% (2432/4659), 138.84 MiB | 620.00 KiB/s   \r"
       ]
      },
      {
       "output_type": "stream",
       "stream": "stdout",
       "text": [
        "Receiving objects:  52% (2432/4659), 139.03 MiB | 588.00 KiB/s   \r"
       ]
      },
      {
       "output_type": "stream",
       "stream": "stdout",
       "text": [
        "Receiving objects:  52% (2432/4659), 139.54 MiB | 468.00 KiB/s   \r"
       ]
      },
      {
       "output_type": "stream",
       "stream": "stdout",
       "text": [
        "Receiving objects:  52% (2432/4659), 140.06 MiB | 400.00 KiB/s   \r"
       ]
      },
      {
       "output_type": "stream",
       "stream": "stdout",
       "text": [
        "Receiving objects:  52% (2432/4659), 140.64 MiB | 695.00 KiB/s   \r"
       ]
      },
      {
       "output_type": "stream",
       "stream": "stdout",
       "text": [
        "Receiving objects:  52% (2432/4659), 141.25 MiB | 521.00 KiB/s   \r"
       ]
      },
      {
       "output_type": "stream",
       "stream": "stdout",
       "text": [
        "Receiving objects:  52% (2432/4659), 141.75 MiB | 524.00 KiB/s   \r"
       ]
      },
      {
       "output_type": "stream",
       "stream": "stdout",
       "text": [
        "Receiving objects:  52% (2432/4659), 142.51 MiB | 595.00 KiB/s   \r"
       ]
      },
      {
       "output_type": "stream",
       "stream": "stdout",
       "text": [
        "Receiving objects:  52% (2433/4659), 142.86 MiB | 614.00 KiB/s   \r"
       ]
      },
      {
       "output_type": "stream",
       "stream": "stdout",
       "text": [
        "Receiving objects:  52% (2436/4659), 143.72 MiB | 659.00 KiB/s   \r"
       ]
      },
      {
       "output_type": "stream",
       "stream": "stdout",
       "text": [
        "Receiving objects:  52% (2436/4659), 144.72 MiB | 736.00 KiB/s   \r"
       ]
      },
      {
       "output_type": "stream",
       "stream": "stdout",
       "text": [
        "Receiving objects:  52% (2436/4659), 146.04 MiB | 904.00 KiB/s   \r"
       ]
      },
      {
       "output_type": "stream",
       "stream": "stdout",
       "text": [
        "Receiving objects:  52% (2437/4659), 147.35 MiB | 1.01 MiB/s   \r"
       ]
      },
      {
       "output_type": "stream",
       "stream": "stdout",
       "text": [
        "Receiving objects:  52% (2437/4659), 148.96 MiB | 1.20 MiB/s   \r"
       ]
      },
      {
       "output_type": "stream",
       "stream": "stdout",
       "text": [
        "Receiving objects:  52% (2437/4659), 150.64 MiB | 1.39 MiB/s   \r"
       ]
      },
      {
       "output_type": "stream",
       "stream": "stdout",
       "text": [
        "Receiving objects:  52% (2437/4659), 152.21 MiB | 1.49 MiB/s   \r"
       ]
      },
      {
       "output_type": "stream",
       "stream": "stdout",
       "text": [
        "Receiving objects:  52% (2437/4659), 153.68 MiB | 1.52 MiB/s   \r"
       ]
      },
      {
       "output_type": "stream",
       "stream": "stdout",
       "text": [
        "Receiving objects:  52% (2437/4659), 154.93 MiB | 1.47 MiB/s   \r"
       ]
      },
      {
       "output_type": "stream",
       "stream": "stdout",
       "text": [
        "Receiving objects:  52% (2437/4659), 156.42 MiB | 1.46 MiB/s   \r"
       ]
      },
      {
       "output_type": "stream",
       "stream": "stdout",
       "text": [
        "Receiving objects:  52% (2437/4659), 158.07 MiB | 1.45 MiB/s   \r"
       ]
      },
      {
       "output_type": "stream",
       "stream": "stdout",
       "text": [
        "Receiving objects:  52% (2437/4659), 159.57 MiB | 1.48 MiB/s   \r"
       ]
      },
      {
       "output_type": "stream",
       "stream": "stdout",
       "text": [
        "Receiving objects:  52% (2437/4659), 160.92 MiB | 1.45 MiB/s   \r"
       ]
      },
      {
       "output_type": "stream",
       "stream": "stdout",
       "text": [
        "Receiving objects:  52% (2437/4659), 162.25 MiB | 1.45 MiB/s   \r"
       ]
      },
      {
       "output_type": "stream",
       "stream": "stdout",
       "text": [
        "Receiving objects:  52% (2437/4659), 163.32 MiB | 1.36 MiB/s   \r"
       ]
      },
      {
       "output_type": "stream",
       "stream": "stdout",
       "text": [
        "Receiving objects:  52% (2437/4659), 164.57 MiB | 1.29 MiB/s   \r"
       ]
      },
      {
       "output_type": "stream",
       "stream": "stdout",
       "text": [
        "Receiving objects:  52% (2437/4659), 165.97 MiB | 1.27 MiB/s   \r"
       ]
      },
      {
       "output_type": "stream",
       "stream": "stdout",
       "text": [
        "Receiving objects:  52% (2437/4659), 166.41 MiB | 1.18 MiB/s   \r"
       ]
      },
      {
       "output_type": "stream",
       "stream": "stdout",
       "text": [
        "Receiving objects:  52% (2437/4659), 167.30 MiB | 1023.00 KiB/s   \r"
       ]
      },
      {
       "output_type": "stream",
       "stream": "stdout",
       "text": [
        "Receiving objects:  52% (2437/4659), 168.24 MiB | 1.02 MiB/s   \r"
       ]
      },
      {
       "output_type": "stream",
       "stream": "stdout",
       "text": [
        "Receiving objects:  52% (2437/4659), 169.63 MiB | 1.06 MiB/s   \r"
       ]
      },
      {
       "output_type": "stream",
       "stream": "stdout",
       "text": [
        "Receiving objects:  52% (2437/4659), 170.89 MiB | 1.06 MiB/s   \r"
       ]
      },
      {
       "output_type": "stream",
       "stream": "stdout",
       "text": [
        "Receiving objects:  52% (2437/4659), 171.60 MiB | 967.00 KiB/s   \r"
       ]
      },
      {
       "output_type": "stream",
       "stream": "stdout",
       "text": [
        "Receiving objects:  52% (2437/4659), 171.79 MiB | 911.00 KiB/s   \r"
       ]
      },
      {
       "output_type": "stream",
       "stream": "stdout",
       "text": [
        "Receiving objects:  52% (2437/4659), 172.88 MiB | 1012.00 KiB/s   \r"
       ]
      },
      {
       "output_type": "stream",
       "stream": "stdout",
       "text": [
        "Receiving objects:  52% (2437/4659), 173.86 MiB | 878.00 KiB/s   \r"
       ]
      },
      {
       "output_type": "stream",
       "stream": "stdout",
       "text": [
        "Receiving objects:  52% (2437/4659), 175.05 MiB | 949.00 KiB/s   \r"
       ]
      },
      {
       "output_type": "stream",
       "stream": "stdout",
       "text": [
        "Receiving objects:  52% (2442/4659), 176.11 MiB | 891.00 KiB/s   \r"
       ]
      },
      {
       "output_type": "stream",
       "stream": "stdout",
       "text": [
        "Receiving objects:  52% (2442/4659), 177.86 MiB | 1.06 MiB/s   \r"
       ]
      },
      {
       "output_type": "stream",
       "stream": "stdout",
       "text": [
        "Receiving objects:  52% (2442/4659), 179.92 MiB | 1.35 MiB/s   \r"
       ]
      },
      {
       "output_type": "stream",
       "stream": "stdout",
       "text": [
        "Receiving objects:  52% (2443/4659), 182.01 MiB | 1.76 MiB/s   \r"
       ]
      },
      {
       "output_type": "stream",
       "stream": "stdout",
       "text": [
        "Receiving objects:  52% (2443/4659), 184.36 MiB | 1.93 MiB/s   \r"
       ]
      },
      {
       "output_type": "stream",
       "stream": "stdout",
       "text": [
        "Receiving objects:  52% (2443/4659), 185.79 MiB | 1.96 MiB/s   \r"
       ]
      },
      {
       "output_type": "stream",
       "stream": "stdout",
       "text": [
        "Receiving objects:  52% (2444/4659), 187.76 MiB | 1.96 MiB/s   \r"
       ]
      },
      {
       "output_type": "stream",
       "stream": "stdout",
       "text": [
        "Receiving objects:  52% (2444/4659), 189.32 MiB | 1.84 MiB/s   \r"
       ]
      },
      {
       "output_type": "stream",
       "stream": "stdout",
       "text": [
        "Receiving objects:  52% (2444/4659), 191.34 MiB | 1.78 MiB/s   \r"
       ]
      },
      {
       "output_type": "stream",
       "stream": "stdout",
       "text": [
        "Receiving objects:  52% (2444/4659), 191.93 MiB | 1.52 MiB/s   \r"
       ]
      },
      {
       "output_type": "stream",
       "stream": "stdout",
       "text": [
        "Receiving objects:  52% (2445/4659), 193.52 MiB | 1.53 MiB/s   \r"
       ]
      },
      {
       "output_type": "stream",
       "stream": "stdout",
       "text": [
        "Receiving objects:  52% (2445/4659), 195.60 MiB | 1.55 MiB/s   \r"
       ]
      },
      {
       "output_type": "stream",
       "stream": "stdout",
       "text": [
        "Receiving objects:  52% (2445/4659), 197.51 MiB | 1.62 MiB/s   \r"
       ]
      },
      {
       "output_type": "stream",
       "stream": "stdout",
       "text": [
        "Receiving objects:  52% (2446/4659), 198.69 MiB | 1.46 MiB/s   \r"
       ]
      },
      {
       "output_type": "stream",
       "stream": "stdout",
       "text": [
        "Receiving objects:  52% (2446/4659), 198.89 MiB | 1.50 MiB/s   \r"
       ]
      },
      {
       "output_type": "stream",
       "stream": "stdout",
       "text": [
        "Receiving objects:  52% (2446/4659), 200.25 MiB | 1.46 MiB/s   \r"
       ]
      },
      {
       "output_type": "stream",
       "stream": "stdout",
       "text": [
        "Receiving objects:  52% (2447/4659), 202.50 MiB | 1.49 MiB/s   \r"
       ]
      },
      {
       "output_type": "stream",
       "stream": "stdout",
       "text": [
        "Receiving objects:  52% (2447/4659), 204.17 MiB | 1.27 MiB/s   \r"
       ]
      },
      {
       "output_type": "stream",
       "stream": "stdout",
       "text": [
        "Receiving objects:  52% (2447/4659), 204.79 MiB | 1.27 MiB/s   \r"
       ]
      },
      {
       "output_type": "stream",
       "stream": "stdout",
       "text": [
        "Receiving objects:  52% (2458/4659), 205.87 MiB | 1.38 MiB/s   \r"
       ]
      },
      {
       "output_type": "stream",
       "stream": "stdout",
       "text": [
        "Receiving objects:  52% (2466/4659), 208.70 MiB | 1.63 MiB/s   \r"
       ]
      },
      {
       "output_type": "stream",
       "stream": "stdout",
       "text": [
        "Receiving objects:  52% (2466/4659), 210.71 MiB | 1.58 MiB/s   \r"
       ]
      },
      {
       "output_type": "stream",
       "stream": "stdout",
       "text": [
        "Receiving objects:  52% (2466/4659), 212.65 MiB | 1.84 MiB/s   \r"
       ]
      },
      {
       "output_type": "stream",
       "stream": "stdout",
       "text": [
        "Receiving objects:  52% (2466/4659), 213.96 MiB | 1.74 MiB/s   \r"
       ]
      },
      {
       "output_type": "stream",
       "stream": "stdout",
       "text": [
        "Receiving objects:  52% (2466/4659), 215.64 MiB | 1.69 MiB/s   \r"
       ]
      },
      {
       "output_type": "stream",
       "stream": "stdout",
       "text": [
        "Receiving objects:  52% (2466/4659), 215.88 MiB | 1.15 MiB/s   \r"
       ]
      },
      {
       "output_type": "stream",
       "stream": "stdout",
       "text": [
        "Receiving objects:  52% (2466/4659), 217.75 MiB | 1.23 MiB/s   \r"
       ]
      },
      {
       "output_type": "stream",
       "stream": "stdout",
       "text": [
        "Receiving objects:  53% (2470/4659), 218.77 MiB | 1.22 MiB/s   \r"
       ]
      },
      {
       "output_type": "stream",
       "stream": "stdout",
       "text": [
        "Receiving objects:  53% (2471/4659), 220.43 MiB | 1.18 MiB/s   \r"
       ]
      },
      {
       "output_type": "stream",
       "stream": "stdout",
       "text": [
        "Receiving objects:  53% (2471/4659), 222.39 MiB | 1.25 MiB/s   \r"
       ]
      },
      {
       "output_type": "stream",
       "stream": "stdout",
       "text": [
        "Receiving objects:  53% (2474/4659), 223.38 MiB | 1.18 MiB/s   \r"
       ]
      },
      {
       "output_type": "stream",
       "stream": "stdout",
       "text": [
        "Receiving objects:  53% (2479/4659), 224.15 MiB | 1.63 MiB/s   \r"
       ]
      },
      {
       "output_type": "stream",
       "stream": "stdout",
       "text": [
        "Receiving objects:  54% (2516/4659), 225.76 MiB | 1.48 MiB/s   \r"
       ]
      },
      {
       "output_type": "stream",
       "stream": "stdout",
       "text": [
        "Receiving objects:  55% (2563/4659), 225.76 MiB | 1.48 MiB/s   \r"
       ]
      },
      {
       "output_type": "stream",
       "stream": "stdout",
       "text": [
        "Receiving objects:  55% (2583/4659), 225.76 MiB | 1.48 MiB/s   \r"
       ]
      },
      {
       "output_type": "stream",
       "stream": "stdout",
       "text": [
        "Receiving objects:  56% (2610/4659), 226.53 MiB | 1.45 MiB/s   \r"
       ]
      },
      {
       "output_type": "stream",
       "stream": "stdout",
       "text": [
        "Receiving objects:  56% (2642/4659), 227.19 MiB | 1.43 MiB/s   \r"
       ]
      },
      {
       "output_type": "stream",
       "stream": "stdout",
       "text": [
        "Receiving objects:  57% (2656/4659), 227.74 MiB | 1.44 MiB/s   \r"
       ]
      },
      {
       "output_type": "stream",
       "stream": "stdout",
       "text": [
        "Receiving objects:  58% (2703/4659), 228.39 MiB | 1.46 MiB/s   \r"
       ]
      },
      {
       "output_type": "stream",
       "stream": "stdout",
       "text": [
        "Receiving objects:  58% (2723/4659), 228.39 MiB | 1.46 MiB/s   \r"
       ]
      },
      {
       "output_type": "stream",
       "stream": "stdout",
       "text": [
        "Receiving objects:  58% (2736/4659), 229.72 MiB | 1.34 MiB/s   \r"
       ]
      },
      {
       "output_type": "stream",
       "stream": "stdout",
       "text": [
        "Receiving objects:  58% (2737/4659), 231.92 MiB | 1.32 MiB/s   \r"
       ]
      },
      {
       "output_type": "stream",
       "stream": "stdout",
       "text": [
        "Receiving objects:  58% (2747/4659), 232.39 MiB | 1.25 MiB/s   \r"
       ]
      },
      {
       "output_type": "stream",
       "stream": "stdout",
       "text": [
        "Receiving objects:  59% (2749/4659), 232.39 MiB | 1.25 MiB/s   \r"
       ]
      },
      {
       "output_type": "stream",
       "stream": "stdout",
       "text": [
        "Receiving objects:  59% (2794/4659), 234.09 MiB | 1.37 MiB/s   \r",
        "Receiving objects:  60% (2796/4659), 234.09 MiB | 1.37 MiB/s   \r"
       ]
      },
      {
       "output_type": "stream",
       "stream": "stdout",
       "text": [
        "Receiving objects:  60% (2825/4659), 235.37 MiB | 1.37 MiB/s   \r"
       ]
      },
      {
       "output_type": "stream",
       "stream": "stdout",
       "text": [
        "Receiving objects:  60% (2826/4659), 237.84 MiB | 1.48 MiB/s   \r"
       ]
      },
      {
       "output_type": "stream",
       "stream": "stdout",
       "text": [
        "Receiving objects:  60% (2841/4659), 238.61 MiB | 1.47 MiB/s   \r",
        "Receiving objects:  61% (2842/4659), 238.61 MiB | 1.47 MiB/s   \r"
       ]
      },
      {
       "output_type": "stream",
       "stream": "stdout",
       "text": [
        "Receiving objects:  61% (2857/4659), 240.07 MiB | 1.49 MiB/s   \r"
       ]
      },
      {
       "output_type": "stream",
       "stream": "stdout",
       "text": [
        "Receiving objects:  61% (2860/4659), 240.78 MiB | 1.20 MiB/s   \r"
       ]
      },
      {
       "output_type": "stream",
       "stream": "stdout",
       "text": [
        "Receiving objects:  61% (2874/4659), 242.07 MiB | 1.24 MiB/s   \r"
       ]
      },
      {
       "output_type": "stream",
       "stream": "stdout",
       "text": [
        "Receiving objects:  61% (2887/4659), 242.68 MiB | 1.21 MiB/s   \r"
       ]
      },
      {
       "output_type": "stream",
       "stream": "stdout",
       "text": [
        "Receiving objects:  62% (2889/4659), 242.68 MiB | 1.21 MiB/s   \r"
       ]
      },
      {
       "output_type": "stream",
       "stream": "stdout",
       "text": [
        "Receiving objects:  62% (2905/4659), 244.61 MiB | 1.24 MiB/s   \r"
       ]
      },
      {
       "output_type": "stream",
       "stream": "stdout",
       "text": [
        "Receiving objects:  63% (2936/4659), 246.88 MiB | 1.37 MiB/s   \r"
       ]
      },
      {
       "output_type": "stream",
       "stream": "stdout",
       "text": [
        "Receiving objects:  63% (2955/4659), 246.88 MiB | 1.37 MiB/s   \r"
       ]
      },
      {
       "output_type": "stream",
       "stream": "stdout",
       "text": [
        "Receiving objects:  63% (2962/4659), 249.29 MiB | 1.51 MiB/s   \r"
       ]
      },
      {
       "output_type": "stream",
       "stream": "stdout",
       "text": [
        "Receiving objects:  64% (2982/4659), 249.29 MiB | 1.51 MiB/s   \r"
       ]
      },
      {
       "output_type": "stream",
       "stream": "stdout",
       "text": [
        "Receiving objects:  65% (3029/4659), 250.54 MiB | 1.89 MiB/s   \r"
       ]
      },
      {
       "output_type": "stream",
       "stream": "stdout",
       "text": [
        "Receiving objects:  65% (3044/4659), 251.66 MiB | 2.04 MiB/s   \r"
       ]
      },
      {
       "output_type": "stream",
       "stream": "stdout",
       "text": [
        "Receiving objects:  66% (3075/4659), 251.66 MiB | 2.04 MiB/s   \r"
       ]
      },
      {
       "output_type": "stream",
       "stream": "stdout",
       "text": [
        "Receiving objects:  66% (3090/4659), 253.42 MiB | 2.11 MiB/s   \r"
       ]
      },
      {
       "output_type": "stream",
       "stream": "stdout",
       "text": [
        "Receiving objects:  67% (3122/4659), 253.42 MiB | 2.11 MiB/s   \r"
       ]
      },
      {
       "output_type": "stream",
       "stream": "stdout",
       "text": [
        "Receiving objects:  67% (3158/4659), 255.62 MiB | 2.11 MiB/s   \r"
       ]
      },
      {
       "output_type": "stream",
       "stream": "stdout",
       "text": [
        "Receiving objects:  68% (3169/4659), 255.62 MiB | 2.11 MiB/s   \r"
       ]
      },
      {
       "output_type": "stream",
       "stream": "stdout",
       "text": [
        "Receiving objects:  68% (3190/4659), 256.78 MiB | 2.11 MiB/s   \r"
       ]
      },
      {
       "output_type": "stream",
       "stream": "stdout",
       "text": [
        "Receiving objects:  69% (3215/4659), 258.96 MiB | 2.11 MiB/s   \r"
       ]
      },
      {
       "output_type": "stream",
       "stream": "stdout",
       "text": [
        "Receiving objects:  69% (3217/4659), 259.90 MiB | 2.05 MiB/s   \r"
       ]
      },
      {
       "output_type": "stream",
       "stream": "stdout",
       "text": [
        "Receiving objects:  69% (3217/4659), 261.68 MiB | 1.83 MiB/s   \r"
       ]
      },
      {
       "output_type": "stream",
       "stream": "stdout",
       "text": [
        "Receiving objects:  69% (3218/4659), 263.13 MiB | 1.89 MiB/s   \r"
       ]
      },
      {
       "output_type": "stream",
       "stream": "stdout",
       "text": [
        "Receiving objects:  70% (3262/4659), 263.13 MiB | 1.89 MiB/s   \r"
       ]
      },
      {
       "output_type": "stream",
       "stream": "stdout",
       "text": [
        "Receiving objects:  70% (3276/4659), 264.30 MiB | 1.89 MiB/s   \r"
       ]
      },
      {
       "output_type": "stream",
       "stream": "stdout",
       "text": [
        "Receiving objects:  71% (3308/4659), 266.65 MiB | 1.92 MiB/s   \r"
       ]
      },
      {
       "output_type": "stream",
       "stream": "stdout",
       "text": [
        "Receiving objects:  71% (3314/4659), 267.70 MiB | 1.86 MiB/s   \r"
       ]
      },
      {
       "output_type": "stream",
       "stream": "stdout",
       "text": [
        "Receiving objects:  71% (3329/4659), 268.79 MiB | 1.91 MiB/s   \r"
       ]
      },
      {
       "output_type": "stream",
       "stream": "stdout",
       "text": [
        "Receiving objects:  71% (3343/4659), 270.20 MiB | 1.70 MiB/s   \r"
       ]
      },
      {
       "output_type": "stream",
       "stream": "stdout",
       "text": [
        "Receiving objects:  71% (3343/4659), 270.87 MiB | 1.66 MiB/s   \r"
       ]
      },
      {
       "output_type": "stream",
       "stream": "stdout",
       "text": [
        "Receiving objects:  71% (3343/4659), 272.95 MiB | 1.40 MiB/s   \r"
       ]
      },
      {
       "output_type": "stream",
       "stream": "stdout",
       "text": [
        "Receiving objects:  71% (3343/4659), 274.29 MiB | 1.41 MiB/s   \r"
       ]
      },
      {
       "output_type": "stream",
       "stream": "stdout",
       "text": [
        "Receiving objects:  71% (3343/4659), 276.25 MiB | 1.38 MiB/s   \r"
       ]
      },
      {
       "output_type": "stream",
       "stream": "stdout",
       "text": [
        "Receiving objects:  71% (3343/4659), 277.44 MiB | 1.26 MiB/s   \r"
       ]
      },
      {
       "output_type": "stream",
       "stream": "stdout",
       "text": [
        "Receiving objects:  71% (3343/4659), 277.50 MiB | 1.22 MiB/s   \r"
       ]
      },
      {
       "output_type": "stream",
       "stream": "stdout",
       "text": [
        "Receiving objects:  72% (3355/4659), 277.50 MiB | 1.22 MiB/s   \r",
        "Receiving objects:  73% (3402/4659), 277.50 MiB | 1.22 MiB/s   \r"
       ]
      },
      {
       "output_type": "stream",
       "stream": "stdout",
       "text": [
        "Receiving objects:  74% (3448/4659), 278.72 MiB | 1.42 MiB/s   \r"
       ]
      },
      {
       "output_type": "stream",
       "stream": "stdout",
       "text": [
        "Receiving objects:  75% (3495/4659), 278.72 MiB | 1.42 MiB/s   \r",
        "Receiving objects:  76% (3541/4659), 278.72 MiB | 1.42 MiB/s   \r"
       ]
      },
      {
       "output_type": "stream",
       "stream": "stdout",
       "text": [
        "Receiving objects:  77% (3588/4659), 278.72 MiB | 1.42 MiB/s   \r"
       ]
      },
      {
       "output_type": "stream",
       "stream": "stdout",
       "text": [
        "Receiving objects:  77% (3613/4659), 279.55 MiB | 1.40 MiB/s   \r"
       ]
      },
      {
       "output_type": "stream",
       "stream": "stdout",
       "text": [
        "Receiving objects:  78% (3635/4659), 279.55 MiB | 1.40 MiB/s   \r"
       ]
      },
      {
       "output_type": "stream",
       "stream": "stdout",
       "text": [
        "Receiving objects:  79% (3681/4659), 279.55 MiB | 1.40 MiB/s   \r"
       ]
      },
      {
       "output_type": "stream",
       "stream": "stdout",
       "text": [
        "Receiving objects:  80% (3728/4659), 279.55 MiB | 1.40 MiB/s   \r"
       ]
      },
      {
       "output_type": "stream",
       "stream": "stdout",
       "text": [
        "Receiving objects:  81% (3774/4659), 280.39 MiB | 1.56 MiB/s   \r"
       ]
      },
      {
       "output_type": "stream",
       "stream": "stdout",
       "text": [
        "Receiving objects:  81% (3781/4659), 280.39 MiB | 1.56 MiB/s   \r"
       ]
      },
      {
       "output_type": "stream",
       "stream": "stdout",
       "text": [
        "Receiving objects:  82% (3821/4659), 282.00 MiB | 1.42 MiB/s   \r",
        "Receiving objects:  83% (3867/4659), 282.00 MiB | 1.42 MiB/s   \r"
       ]
      },
      {
       "output_type": "stream",
       "stream": "stdout",
       "text": [
        "Receiving objects:  83% (3882/4659), 282.00 MiB | 1.42 MiB/s   \r"
       ]
      },
      {
       "output_type": "stream",
       "stream": "stdout",
       "text": [
        "Receiving objects:  83% (3906/4659), 284.22 MiB | 1.46 MiB/s   \r"
       ]
      },
      {
       "output_type": "stream",
       "stream": "stdout",
       "text": [
        "Receiving objects:  83% (3906/4659), 285.10 MiB | 1.37 MiB/s   \r"
       ]
      },
      {
       "output_type": "stream",
       "stream": "stdout",
       "text": [
        "Receiving objects:  83% (3906/4659), 285.77 MiB | 1.11 MiB/s   \r"
       ]
      },
      {
       "output_type": "stream",
       "stream": "stdout",
       "text": [
        "Receiving objects:  84% (3914/4659), 285.77 MiB | 1.11 MiB/s   \r"
       ]
      },
      {
       "output_type": "stream",
       "stream": "stdout",
       "text": [
        "Receiving objects:  84% (3922/4659), 286.66 MiB | 1.07 MiB/s   \r"
       ]
      },
      {
       "output_type": "stream",
       "stream": "stdout",
       "text": [
        "Receiving objects:  84% (3929/4659), 287.37 MiB | 925.00 KiB/s   \r"
       ]
      },
      {
       "output_type": "stream",
       "stream": "stdout",
       "text": [
        "Receiving objects:  84% (3936/4659), 287.86 MiB | 888.00 KiB/s   \r"
       ]
      },
      {
       "output_type": "stream",
       "stream": "stdout",
       "text": [
        "Receiving objects:  84% (3951/4659), 288.64 MiB | 819.00 KiB/s   \r"
       ]
      },
      {
       "output_type": "stream",
       "stream": "stdout",
       "text": [
        "Receiving objects:  85% (3961/4659), 290.32 MiB | 977.00 KiB/s   \r"
       ]
      },
      {
       "output_type": "stream",
       "stream": "stdout",
       "text": [
        "Receiving objects:  85% (3967/4659), 290.96 MiB | 991.00 KiB/s   \r"
       ]
      },
      {
       "output_type": "stream",
       "stream": "stdout",
       "text": [
        "Receiving objects:  85% (3972/4659), 291.54 MiB | 1.07 MiB/s   \r"
       ]
      },
      {
       "output_type": "stream",
       "stream": "stdout",
       "text": [
        "Receiving objects:  85% (4005/4659), 293.52 MiB | 1.26 MiB/s   \r",
        "Receiving objects:  86% (4007/4659), 293.52 MiB | 1.26 MiB/s   \r"
       ]
      },
      {
       "output_type": "stream",
       "stream": "stdout",
       "text": [
        "Receiving objects:  87% (4054/4659), 293.52 MiB | 1.26 MiB/s   \r"
       ]
      },
      {
       "output_type": "stream",
       "stream": "stdout",
       "text": [
        "Receiving objects:  87% (4055/4659), 296.64 MiB | 1.70 MiB/s   \r"
       ]
      },
      {
       "output_type": "stream",
       "stream": "stdout",
       "text": [
        "Receiving objects:  88% (4100/4659), 296.64 MiB | 1.70 MiB/s   \r"
       ]
      },
      {
       "output_type": "stream",
       "stream": "stdout",
       "text": [
        "Receiving objects:  89% (4147/4659), 296.64 MiB | 1.70 MiB/s   \r"
       ]
      },
      {
       "output_type": "stream",
       "stream": "stdout",
       "text": [
        "Receiving objects:  89% (4172/4659), 297.79 MiB | 1.74 MiB/s   \r"
       ]
      },
      {
       "output_type": "stream",
       "stream": "stdout",
       "text": [
        "Receiving objects:  90% (4194/4659), 298.64 MiB | 1.78 MiB/s   \r"
       ]
      },
      {
       "output_type": "stream",
       "stream": "stdout",
       "text": [
        "Receiving objects:  90% (4203/4659), 299.79 MiB | 1.89 MiB/s   \r"
       ]
      },
      {
       "output_type": "stream",
       "stream": "stdout",
       "text": [
        "Receiving objects:  90% (4208/4659), 301.44 MiB | 1.96 MiB/s   \r"
       ]
      },
      {
       "output_type": "stream",
       "stream": "stdout",
       "text": [
        "Receiving objects:  90% (4226/4659), 303.44 MiB | 1.92 MiB/s   \r"
       ]
      },
      {
       "output_type": "stream",
       "stream": "stdout",
       "text": [
        "Receiving objects:  91% (4240/4659), 304.36 MiB | 1.90 MiB/s   \r"
       ]
      },
      {
       "output_type": "stream",
       "stream": "stdout",
       "text": [
        "Receiving objects:  91% (4242/4659), 305.44 MiB | 1.91 MiB/s   \r"
       ]
      },
      {
       "output_type": "stream",
       "stream": "stdout",
       "text": [
        "Receiving objects:  91% (4261/4659), 307.61 MiB | 1.96 MiB/s   \r"
       ]
      },
      {
       "output_type": "stream",
       "stream": "stdout",
       "text": [
        "Receiving objects:  91% (4276/4659), 311.01 MiB | 2.09 MiB/s   \r"
       ]
      },
      {
       "output_type": "stream",
       "stream": "stdout",
       "text": [
        "Receiving objects:  92% (4287/4659), 311.01 MiB | 2.09 MiB/s   \r"
       ]
      },
      {
       "output_type": "stream",
       "stream": "stdout",
       "text": [
        "Receiving objects:  93% (4333/4659), 311.01 MiB | 2.09 MiB/s   \r"
       ]
      },
      {
       "output_type": "stream",
       "stream": "stdout",
       "text": [
        "Receiving objects:  93% (4345/4659), 312.06 MiB | 2.12 MiB/s   \r"
       ]
      },
      {
       "output_type": "stream",
       "stream": "stdout",
       "text": [
        "Receiving objects:  93% (4367/4659), 313.28 MiB | 1.87 MiB/s   \r"
       ]
      },
      {
       "output_type": "stream",
       "stream": "stdout",
       "text": [
        "Receiving objects:  94% (4380/4659), 313.28 MiB | 1.87 MiB/s   \r"
       ]
      },
      {
       "output_type": "stream",
       "stream": "stdout",
       "text": [
        "Receiving objects:  94% (4402/4659), 314.00 MiB | 1.61 MiB/s   \r"
       ]
      },
      {
       "output_type": "stream",
       "stream": "stdout",
       "text": [
        "Receiving objects:  94% (4421/4659), 315.39 MiB | 1.68 MiB/s   \r"
       ]
      },
      {
       "output_type": "stream",
       "stream": "stdout",
       "text": [
        "Receiving objects:  95% (4427/4659), 316.50 MiB | 1.67 MiB/s   \r"
       ]
      },
      {
       "output_type": "stream",
       "stream": "stdout",
       "text": [
        "Receiving objects:  95% (4448/4659), 317.59 MiB | 1.67 MiB/s   \r"
       ]
      },
      {
       "output_type": "stream",
       "stream": "stdout",
       "text": [
        "Receiving objects:  95% (4465/4659), 319.07 MiB | 1.41 MiB/s   \r"
       ]
      },
      {
       "output_type": "stream",
       "stream": "stdout",
       "text": [
        "Receiving objects:  96% (4473/4659), 319.07 MiB | 1.41 MiB/s   \r"
       ]
      },
      {
       "output_type": "stream",
       "stream": "stdout",
       "text": [
        "Receiving objects:  96% (4487/4659), 320.57 MiB | 1.49 MiB/s   \r"
       ]
      },
      {
       "output_type": "stream",
       "stream": "stdout",
       "text": [
        "Receiving objects:  96% (4500/4659), 322.74 MiB | 1.71 MiB/s   \r"
       ]
      },
      {
       "output_type": "stream",
       "stream": "stdout",
       "text": [
        "Receiving objects:  97% (4520/4659), 323.88 MiB | 1.97 MiB/s   \r"
       ]
      },
      {
       "output_type": "stream",
       "stream": "stdout",
       "text": [
        "Receiving objects:  97% (4562/4659), 325.07 MiB | 1.94 MiB/s   \r"
       ]
      },
      {
       "output_type": "stream",
       "stream": "stdout",
       "text": [
        "Receiving objects:  98% (4566/4659), 325.07 MiB | 1.94 MiB/s   \r"
       ]
      },
      {
       "output_type": "stream",
       "stream": "stdout",
       "text": [
        "Receiving objects:  98% (4608/4659), 327.25 MiB | 1.93 MiB/s   \r"
       ]
      },
      {
       "output_type": "stream",
       "stream": "stdout",
       "text": [
        "Receiving objects:  99% (4613/4659), 328.41 MiB | 1.99 MiB/s   \r"
       ]
      },
      {
       "output_type": "stream",
       "stream": "stdout",
       "text": [
        "Receiving objects:  99% (4647/4659), 329.53 MiB | 2.28 MiB/s   \r"
       ]
      },
      {
       "output_type": "stream",
       "stream": "stdout",
       "text": [
        "remote: Total 4659 (delta 0), reused 0 (delta 0)\u001b[K\r\n",
        "Receiving objects: 100% (4659/4659), 329.53 MiB | 2.28 MiB/s   \r",
        "Receiving objects: 100% (4659/4659), 330.62 MiB | 2.19 MiB/s, done.\r\n",
        "Resolving deltas:   0% (0/1380)   \r",
        "Resolving deltas:   1% (15/1380)   \r",
        "Resolving deltas:   2% (28/1380)   \r",
        "Resolving deltas:   3% (43/1380)   \r",
        "Resolving deltas:   4% (57/1380)   \r",
        "Resolving deltas:   5% (72/1380)   \r",
        "Resolving deltas:   6% (85/1380)   \r",
        "Resolving deltas:   7% (97/1380)   \r",
        "Resolving deltas:   8% (111/1380)   \r",
        "Resolving deltas:   9% (126/1380)   \r",
        "Resolving deltas:  10% (138/1380)   \r",
        "Resolving deltas:  11% (152/1380)   \r",
        "Resolving deltas:  12% (166/1380)   \r",
        "Resolving deltas:  13% (180/1380)   \r",
        "Resolving deltas:  14% (194/1380)   \r",
        "Resolving deltas:  17% (235/1380)   \r",
        "Resolving deltas:  18% (256/1380)   \r",
        "Resolving deltas:  19% (264/1380)   \r",
        "Resolving deltas:  20% (285/1380)   \r",
        "Resolving deltas:  21% (292/1380)   \r",
        "Resolving deltas:  22% (305/1380)   \r",
        "Resolving deltas:  23% (319/1380)   \r",
        "Resolving deltas:  30% (423/1380)   \r",
        "Resolving deltas:  31% (428/1380)   \r",
        "Resolving deltas:  32% (443/1380)   \r",
        "Resolving deltas:  33% (456/1380)   \r"
       ]
      },
      {
       "output_type": "stream",
       "stream": "stdout",
       "text": [
        "Resolving deltas:  34% (477/1380)   \r",
        "Resolving deltas:  35% (492/1380)   \r",
        "Resolving deltas:  36% (499/1380)   \r",
        "Resolving deltas:  38% (529/1380)   \r",
        "Resolving deltas:  39% (539/1380)   \r",
        "Resolving deltas:  40% (562/1380)   \r",
        "Resolving deltas:  41% (578/1380)   \r",
        "Resolving deltas:  42% (581/1380)   \r",
        "Resolving deltas:  43% (596/1380)   \r",
        "Resolving deltas:  44% (608/1380)   \r",
        "Resolving deltas:  45% (625/1380)   \r",
        "Resolving deltas:  46% (637/1380)   \r",
        "Resolving deltas:  47% (649/1380)   \r",
        "Resolving deltas:  48% (665/1380)   \r"
       ]
      },
      {
       "output_type": "stream",
       "stream": "stdout",
       "text": [
        "Resolving deltas:  49% (678/1380)   \r",
        "Resolving deltas:  50% (696/1380)   \r",
        "Resolving deltas:  51% (704/1380)   \r",
        "Resolving deltas:  52% (718/1380)   \r",
        "Resolving deltas:  53% (733/1380)   \r",
        "Resolving deltas:  54% (747/1380)   \r"
       ]
      },
      {
       "output_type": "stream",
       "stream": "stdout",
       "text": [
        "Resolving deltas:  55% (760/1380)   \r",
        "Resolving deltas:  56% (777/1380)   \r",
        "Resolving deltas:  57% (790/1380)   \r",
        "Resolving deltas:  58% (810/1380)   \r",
        "Resolving deltas:  59% (822/1380)   \r",
        "Resolving deltas:  60% (830/1380)   \r",
        "Resolving deltas:  61% (842/1380)   \r",
        "Resolving deltas:  62% (861/1380)   \r",
        "Resolving deltas:  63% (871/1380)   \r",
        "Resolving deltas:  65% (900/1380)   \r",
        "Resolving deltas:  66% (912/1380)   \r",
        "Resolving deltas:  67% (925/1380)   \r",
        "Resolving deltas:  68% (939/1380)   \r",
        "Resolving deltas:  69% (958/1380)   \r",
        "Resolving deltas:  70% (966/1380)   \r",
        "Resolving deltas:  72% (1001/1380)   \r",
        "Resolving deltas:  77% (1069/1380)   \r",
        "Resolving deltas:  78% (1077/1380)   \r",
        "Resolving deltas:  83% (1153/1380)   \r",
        "Resolving deltas:  84% (1161/1380)   \r"
       ]
      },
      {
       "output_type": "stream",
       "stream": "stdout",
       "text": [
        "Resolving deltas:  85% (1174/1380)   \r",
        "Resolving deltas:  86% (1187/1380)   \r",
        "Resolving deltas:  87% (1205/1380)   \r",
        "Resolving deltas:  88% (1215/1380)   \r"
       ]
      },
      {
       "output_type": "stream",
       "stream": "stdout",
       "text": [
        "Resolving deltas:  89% (1230/1380)   \r",
        "Resolving deltas:  90% (1242/1380)   \r",
        "Resolving deltas:  91% (1258/1380)   \r",
        "Resolving deltas:  92% (1273/1380)   \r",
        "Resolving deltas:  93% (1285/1380)   \r",
        "Resolving deltas:  94% (1299/1380)   \r",
        "Resolving deltas:  95% (1311/1380)   \r",
        "Resolving deltas:  96% (1325/1380)   \r"
       ]
      },
      {
       "output_type": "stream",
       "stream": "stdout",
       "text": [
        "Resolving deltas:  97% (1339/1380)   \r",
        "Resolving deltas:  98% (1354/1380)   \r",
        "Resolving deltas:  99% (1367/1380)   \r",
        "Resolving deltas: 100% (1380/1380)   \r",
        "Resolving deltas: 100% (1380/1380), done.\r\n"
       ]
      },
      {
       "output_type": "stream",
       "stream": "stdout",
       "text": [
        "Checking connectivity... done.\r\n"
       ]
      },
      {
       "output_type": "stream",
       "stream": "stdout",
       "text": [
        "Submodule path 'data': checked out '24b8341a99fc2d3e2ad40f372578ea91bdbedaf6'\r\n"
       ]
      }
     ],
     "prompt_number": 4
    },
    {
     "cell_type": "markdown",
     "metadata": {},
     "source": [
      "After init & update submodule\n",
      "\n",
      "```\n",
      "git submodule init && git submodule update\n",
      "```\n",
      "\n",
      "we will have the testing data in our repository ... [Submodule: shogun-data](https://github.com/shogun-toolbox/shogun-data/tree/24b8341a99fc2d3e2ad40f372578ea91bdbedaf6)\n"
     ]
    },
    {
     "cell_type": "code",
     "collapsed": false,
     "input": [
      "!ls /home/c3h3/demo_ipynbs/data"
     ],
     "language": "python",
     "metadata": {},
     "outputs": [
      {
       "output_type": "stream",
       "stream": "stdout",
       "text": [
        "AAM   arts  att_dataset  faces\tlang_detection\tmsplicer    multilabel\tREADME.md  tapkee     toy\r\n",
        "ANPR  asp   easysvm\t ica\tlogdet\t\tmulticlass  ocr\t\tSIFT\t   testsuite\r\n"
       ]
      }
     ],
     "prompt_number": 6
    },
    {
     "cell_type": "markdown",
     "metadata": {},
     "source": [
      "## Running Docker instance with single command ..."
     ]
    },
    {
     "cell_type": "markdown",
     "metadata": {},
     "source": [
      "with the command on the website https://registry.hub.docker.com/u/c3h3/oblas-py278-shogun-ipynb/\n",
      "\n",
      "```\n",
      "docker run -p forward_port:8888 -v outside_ipynbs:/ipynbs -d c3h3/oblas-py278-shogun-ipynb\n",
      "```\n",
      "\n",
      "we can easily setting the parameters: forward_port and outside_ipynbs \n",
      "\n",
      "(with forward_port=8080 and outside_ipynbs=/home/c3h3/demo_ipynbs)\n",
      "\n",
      "to run the docker images directly ..."
     ]
    },
    {
     "cell_type": "code",
     "collapsed": false,
     "input": [
      "!docker run -p 8080:8888 -v /home/c3h3/demo_ipynbs:/ipynbs -d c3h3/oblas-py278-shogun-ipynb"
     ],
     "language": "python",
     "metadata": {},
     "outputs": [
      {
       "output_type": "stream",
       "stream": "stdout",
       "text": [
        "73f210130fc6dad36489bb28490f17254252018a90d3b51b93f431b2b9910cdd\r\n"
       ]
      }
     ],
     "prompt_number": 7
    },
    {
     "cell_type": "markdown",
     "metadata": {},
     "source": [
      "# After 'docker run' ... "
     ]
    },
    {
     "cell_type": "markdown",
     "metadata": {},
     "source": [
      "with command \n",
      "\n",
      "```\n",
      "docker ps \n",
      "```\n",
      "\n",
      "or\n",
      "\n",
      "```\n",
      "docker ps -a\n",
      "```\n",
      "\n",
      "you could checkout the all running images, just like the bash command \n",
      "\n",
      "```\n",
      "ps -aux\n",
      "```\n"
     ]
    },
    {
     "cell_type": "code",
     "collapsed": false,
     "input": [
      "!docker ps"
     ],
     "language": "python",
     "metadata": {},
     "outputs": [
      {
       "output_type": "stream",
       "stream": "stdout",
       "text": [
        "CONTAINER ID        IMAGE                                  COMMAND                CREATED             STATUS              PORTS                    NAMES\r\n",
        "73f210130fc6        c3h3/oblas-py278-shogun-ipynb:latest   \"/bin/sh -c 'ipython   3 seconds ago       Up 2 seconds        0.0.0.0:8080->8888/tcp   kickass_fermi       \r\n"
       ]
      }
     ],
     "prompt_number": 8
    },
    {
     "cell_type": "code",
     "collapsed": false,
     "input": [
      "!docker ps -a"
     ],
     "language": "python",
     "metadata": {},
     "outputs": [
      {
       "output_type": "stream",
       "stream": "stdout",
       "text": [
        "CONTAINER ID        IMAGE                                  COMMAND                CREATED             STATUS              PORTS                    NAMES\r\n",
        "73f210130fc6        c3h3/oblas-py278-shogun-ipynb:latest   \"/bin/sh -c 'ipython   3 seconds ago       Up 3 seconds        0.0.0.0:8080->8888/tcp   kickass_fermi       \r\n"
       ]
      }
     ],
     "prompt_number": 9
    },
    {
     "cell_type": "code",
     "collapsed": false,
     "input": [
      "!ps -a"
     ],
     "language": "python",
     "metadata": {},
     "outputs": [
      {
       "output_type": "stream",
       "stream": "stdout",
       "text": [
        "  PID TTY          TIME CMD\r\n",
        " 4546 pts/12   00:00:03 ipython\r\n",
        " 5803 pts/24   00:00:45 htop\r\n",
        "10518 pts/12   00:00:02 python2.7\r\n",
        "11913 pts/25   00:00:00 ps\r\n"
       ]
      }
     ],
     "prompt_number": 10
    },
    {
     "cell_type": "markdown",
     "metadata": {},
     "source": [
      "# Open IPython Notebook with Browser ..."
     ]
    },
    {
     "cell_type": "markdown",
     "metadata": {},
     "source": [
      "please open http://localhost:8080 with browser ...\n",
      "\n"
     ]
    },
    {
     "cell_type": "markdown",
     "metadata": {},
     "source": [
      "## [Snapshot] IPython Notebook \n",
      "\n",
      "![](ipynb_demo.png)"
     ]
    },
    {
     "cell_type": "markdown",
     "metadata": {},
     "source": [
      "## [Snapshot] Open shogun-ipynbs\n",
      "\n",
      "![](shogun_doc_ipynbs.png)"
     ]
    },
    {
     "cell_type": "markdown",
     "metadata": {},
     "source": [
      "## [Snapshot] Neural Network IPython Notebooks\n",
      "\n",
      "![](nn_ipynbs.png)"
     ]
    },
    {
     "cell_type": "markdown",
     "metadata": {},
     "source": [
      "## [Snapshot] Open Notebook\n",
      "\n",
      "![](nn_demo1.png)\n"
     ]
    },
    {
     "cell_type": "markdown",
     "metadata": {},
     "source": [
      "## [Snapshot] Draw Structure with Networkx\n",
      "\n",
      "![](nn_demo2.png)\n"
     ]
    },
    {
     "cell_type": "markdown",
     "metadata": {},
     "source": [
      "## [Snapshot] Training Network with Multi-threads\n",
      "\n",
      "![](nn_demo3.png)\n",
      "![](nn_demo4.png)\n",
      "![](nn_demo5.png)\n"
     ]
    },
    {
     "cell_type": "markdown",
     "metadata": {},
     "source": [
      "# Close docker image ... "
     ]
    },
    {
     "cell_type": "markdown",
     "metadata": {},
     "source": [
      "After working with ipython notebook and shogun, you could use the command:\n",
      "\n",
      "```\n",
      "docker stop name_or_hashkey && docker rm name_or_hashkey\n",
      "```\n",
      "\n",
      "to stop and remove your running instance, \n",
      "\n",
      "where name_or_hashkey is your running instance's name or hashkey (here is hashkey 75ffa514c628)"
     ]
    },
    {
     "cell_type": "code",
     "collapsed": false,
     "input": [
      "!docker stop 73f210130fc6 && docker rm 73f210130fc6"
     ],
     "language": "python",
     "metadata": {},
     "outputs": [
      {
       "output_type": "stream",
       "stream": "stdout",
       "text": [
        "73f210130fc6\r\n"
       ]
      },
      {
       "output_type": "stream",
       "stream": "stdout",
       "text": [
        "73f210130fc6\r\n"
       ]
      }
     ],
     "prompt_number": 11
    },
    {
     "cell_type": "markdown",
     "metadata": {},
     "source": [
      "After Stoping instance, use \n",
      "\n",
      "```\n",
      "docker ps \n",
      "```\n",
      "\n",
      "check again ... "
     ]
    },
    {
     "cell_type": "code",
     "collapsed": false,
     "input": [
      "!docker ps"
     ],
     "language": "python",
     "metadata": {},
     "outputs": [
      {
       "output_type": "stream",
       "stream": "stdout",
       "text": [
        "CONTAINER ID        IMAGE               COMMAND             CREATED             STATUS              PORTS               NAMES\r\n"
       ]
      }
     ],
     "prompt_number": 12
    },
    {
     "cell_type": "code",
     "collapsed": false,
     "input": [],
     "language": "python",
     "metadata": {},
     "outputs": []
    }
   ],
   "metadata": {}
  }
 ]
}